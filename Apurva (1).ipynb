{
 "cells": [
  {
   "cell_type": "code",
   "execution_count": 1,
   "id": "75a8005e-a408-4e50-ab56-fe604855f9ab",
   "metadata": {},
   "outputs": [
    {
     "data": {
      "text/plain": [
       "2"
      ]
     },
     "execution_count": 1,
     "metadata": {},
     "output_type": "execute_result"
    }
   ],
   "source": [
    "1+1"
   ]
  },
  {
   "cell_type": "code",
   "execution_count": 2,
   "id": "a4f8cb90-fcec-444e-9a07-e0b73069043b",
   "metadata": {},
   "outputs": [
    {
     "data": {
      "text/plain": [
       "30"
      ]
     },
     "execution_count": 2,
     "metadata": {},
     "output_type": "execute_result"
    }
   ],
   "source": [
    "5*6"
   ]
  },
  {
   "cell_type": "code",
   "execution_count": 3,
   "id": "514126b0-b526-4311-9611-58891d6ba9cd",
   "metadata": {},
   "outputs": [],
   "source": [
    "# a = variable \n",
    "a = 10\n"
   ]
  },
  {
   "cell_type": "code",
   "execution_count": 4,
   "id": "11aad7bd-35f5-42d1-9ee5-c1eb5845f6f2",
   "metadata": {},
   "outputs": [
    {
     "data": {
      "text/plain": [
       "10"
      ]
     },
     "execution_count": 4,
     "metadata": {},
     "output_type": "execute_result"
    }
   ],
   "source": [
    "a"
   ]
  },
  {
   "cell_type": "code",
   "execution_count": 5,
   "id": "b9da7b9a-6f43-4359-b355-622a48addb05",
   "metadata": {},
   "outputs": [],
   "source": [
    "# Apurva = variable\n",
    "apurva = 22"
   ]
  },
  {
   "cell_type": "code",
   "execution_count": 6,
   "id": "bf8d38b7-6d6c-4c9e-99de-4d10b18ef024",
   "metadata": {},
   "outputs": [
    {
     "data": {
      "text/plain": [
       "22"
      ]
     },
     "execution_count": 6,
     "metadata": {},
     "output_type": "execute_result"
    }
   ],
   "source": [
    "apurva"
   ]
  },
  {
   "cell_type": "code",
   "execution_count": 7,
   "id": "63fab91f-72ef-4249-9a39-b8e770e3d3c5",
   "metadata": {},
   "outputs": [
    {
     "data": {
      "text/plain": [
       "32"
      ]
     },
     "execution_count": 7,
     "metadata": {},
     "output_type": "execute_result"
    }
   ],
   "source": [
    "a  + apurva"
   ]
  },
  {
   "cell_type": "code",
   "execution_count": 15,
   "id": "67d2957d-02fd-49c4-ba55-242ca9d7a039",
   "metadata": {},
   "outputs": [
    {
     "data": {
      "text/plain": [
       "int"
      ]
     },
     "execution_count": 15,
     "metadata": {},
     "output_type": "execute_result"
    }
   ],
   "source": [
    "# type() it is used to know the type of the data or datatype.\n",
    "type(a)"
   ]
  },
  {
   "cell_type": "code",
   "execution_count": 10,
   "id": "7be23517-d9d6-4048-977e-f6b9c9f402ba",
   "metadata": {},
   "outputs": [
    {
     "data": {
      "text/plain": [
       "int"
      ]
     },
     "execution_count": 10,
     "metadata": {},
     "output_type": "execute_result"
    }
   ],
   "source": [
    "type(apurva)"
   ]
  },
  {
   "cell_type": "code",
   "execution_count": 11,
   "id": "a94017b7-3c1b-442e-886b-98a64c12386e",
   "metadata": {},
   "outputs": [],
   "source": [
    "b = 2.06"
   ]
  },
  {
   "cell_type": "code",
   "execution_count": 12,
   "id": "6ac9c753-d0ba-4f31-bf23-23cebecb5dcc",
   "metadata": {},
   "outputs": [
    {
     "data": {
      "text/plain": [
       "float"
      ]
     },
     "execution_count": 12,
     "metadata": {},
     "output_type": "execute_result"
    }
   ],
   "source": [
    "type(b)"
   ]
  },
  {
   "cell_type": "code",
   "execution_count": 13,
   "id": "b54a3fe6-6948-4e5f-b6ba-d910185f21d9",
   "metadata": {},
   "outputs": [],
   "source": [
    "c = 66.55"
   ]
  },
  {
   "cell_type": "code",
   "execution_count": 14,
   "id": "5deda3db-bfa0-4be1-ba2c-e603e167b9a6",
   "metadata": {},
   "outputs": [
    {
     "data": {
      "text/plain": [
       "float"
      ]
     },
     "execution_count": 14,
     "metadata": {},
     "output_type": "execute_result"
    }
   ],
   "source": [
    "type(c)"
   ]
  },
  {
   "cell_type": "code",
   "execution_count": 16,
   "id": "28332b8e-f0ad-4f42-b349-f8f011f247f0",
   "metadata": {},
   "outputs": [],
   "source": [
    "d = \"Apurva\""
   ]
  },
  {
   "cell_type": "code",
   "execution_count": 17,
   "id": "9a94dddd-f096-4e25-8607-990531104bd4",
   "metadata": {},
   "outputs": [
    {
     "data": {
      "text/plain": [
       "str"
      ]
     },
     "execution_count": 17,
     "metadata": {},
     "output_type": "execute_result"
    }
   ],
   "source": [
    "type(d)"
   ]
  },
  {
   "cell_type": "code",
   "execution_count": 18,
   "id": "17ef8b5d-ecf3-40f9-80d8-cc071ecccf4d",
   "metadata": {},
   "outputs": [],
   "source": [
    "e = \"This is my second class\""
   ]
  },
  {
   "cell_type": "code",
   "execution_count": 19,
   "id": "20a9b22d-c33d-47a3-bed7-18e5beac204d",
   "metadata": {},
   "outputs": [
    {
     "data": {
      "text/plain": [
       "str"
      ]
     },
     "execution_count": 19,
     "metadata": {},
     "output_type": "execute_result"
    }
   ],
   "source": [
    "type(e)"
   ]
  },
  {
   "cell_type": "code",
   "execution_count": 20,
   "id": "cd3a2b38-2e37-439f-95f3-c353aea247e2",
   "metadata": {},
   "outputs": [],
   "source": [
    "n = True"
   ]
  },
  {
   "cell_type": "code",
   "execution_count": 21,
   "id": "1fc33929-1c36-4716-be07-96620481cf5b",
   "metadata": {},
   "outputs": [
    {
     "data": {
      "text/plain": [
       "bool"
      ]
     },
     "execution_count": 21,
     "metadata": {},
     "output_type": "execute_result"
    }
   ],
   "source": [
    "type(n)"
   ]
  },
  {
   "cell_type": "code",
   "execution_count": 22,
   "id": "afa6870e-f8bd-4845-98c4-6c0002df5db3",
   "metadata": {},
   "outputs": [],
   "source": [
    "m = False"
   ]
  },
  {
   "cell_type": "code",
   "execution_count": 23,
   "id": "67d6eb2e-ce5a-4658-93f9-58e828c78e5c",
   "metadata": {},
   "outputs": [
    {
     "data": {
      "text/plain": [
       "bool"
      ]
     },
     "execution_count": 23,
     "metadata": {},
     "output_type": "execute_result"
    }
   ],
   "source": [
    "type(m)"
   ]
  },
  {
   "cell_type": "code",
   "execution_count": 24,
   "id": "54c20c72-dc7a-4272-a10c-7028cf23e1f6",
   "metadata": {},
   "outputs": [
    {
     "data": {
      "text/plain": [
       "1"
      ]
     },
     "execution_count": 24,
     "metadata": {},
     "output_type": "execute_result"
    }
   ],
   "source": [
    "True * True"
   ]
  },
  {
   "cell_type": "code",
   "execution_count": 25,
   "id": "e2aa8d6e-70dc-4916-a0e9-6e7a5ce5c887",
   "metadata": {},
   "outputs": [
    {
     "data": {
      "text/plain": [
       "1"
      ]
     },
     "execution_count": 25,
     "metadata": {},
     "output_type": "execute_result"
    }
   ],
   "source": [
    "m + n"
   ]
  },
  {
   "cell_type": "code",
   "execution_count": 26,
   "id": "484f9c6b-598e-4212-8efe-66c6037f278f",
   "metadata": {},
   "outputs": [
    {
     "ename": "ZeroDivisionError",
     "evalue": "division by zero",
     "output_type": "error",
     "traceback": [
      "\u001b[0;31m---------------------------------------------------------------------------\u001b[0m",
      "\u001b[0;31mZeroDivisionError\u001b[0m                         Traceback (most recent call last)",
      "Cell \u001b[0;32mIn[26], line 1\u001b[0m\n\u001b[0;32m----> 1\u001b[0m \u001b[38;5;28;43;01mTrue\u001b[39;49;00m\u001b[43m \u001b[49m\u001b[38;5;241;43m/\u001b[39;49m\u001b[43m \u001b[49m\u001b[38;5;28;43;01mFalse\u001b[39;49;00m\n",
      "\u001b[0;31mZeroDivisionError\u001b[0m: division by zero"
     ]
    }
   ],
   "source": [
    "True / False"
   ]
  },
  {
   "cell_type": "code",
   "execution_count": 27,
   "id": "d69b419c-e794-4334-8c7d-0e9616491dbe",
   "metadata": {},
   "outputs": [
    {
     "data": {
      "text/plain": [
       "1"
      ]
     },
     "execution_count": 27,
     "metadata": {},
     "output_type": "execute_result"
    }
   ],
   "source": [
    "True - False"
   ]
  },
  {
   "cell_type": "code",
   "execution_count": 28,
   "id": "23e77867-81fc-4fb4-9334-a773ed7d773a",
   "metadata": {},
   "outputs": [
    {
     "data": {
      "text/plain": [
       "-1"
      ]
     },
     "execution_count": 28,
     "metadata": {},
     "output_type": "execute_result"
    }
   ],
   "source": [
    "False - True"
   ]
  },
  {
   "cell_type": "code",
   "execution_count": 31,
   "id": "c53a189a-81ec-42d0-b66a-e36610984730",
   "metadata": {},
   "outputs": [],
   "source": [
    "# j = imaginary no\n",
    "v = 5 + 8j"
   ]
  },
  {
   "cell_type": "code",
   "execution_count": 32,
   "id": "f56a46c4-dc85-4d4c-897b-39e020aa0966",
   "metadata": {},
   "outputs": [
    {
     "data": {
      "text/plain": [
       "complex"
      ]
     },
     "execution_count": 32,
     "metadata": {},
     "output_type": "execute_result"
    }
   ],
   "source": [
    "type(v)"
   ]
  },
  {
   "cell_type": "code",
   "execution_count": 33,
   "id": "69071b98-cd32-4829-8d23-ed17a8d6b7bf",
   "metadata": {},
   "outputs": [
    {
     "data": {
      "text/plain": [
       "8.0"
      ]
     },
     "execution_count": 33,
     "metadata": {},
     "output_type": "execute_result"
    }
   ],
   "source": [
    "v.imag"
   ]
  },
  {
   "cell_type": "code",
   "execution_count": 34,
   "id": "38aa388f-76d9-49d9-b32c-8db7a35e76ce",
   "metadata": {},
   "outputs": [
    {
     "data": {
      "text/plain": [
       "5.0"
      ]
     },
     "execution_count": 34,
     "metadata": {},
     "output_type": "execute_result"
    }
   ],
   "source": [
    "v.real"
   ]
  },
  {
   "cell_type": "code",
   "execution_count": 36,
   "id": "0ae11160-56fb-4ec3-9eee-b0b0ec79c082",
   "metadata": {},
   "outputs": [
    {
     "data": {
      "text/plain": [
       "<function complex.conjugate()>"
      ]
     },
     "execution_count": 36,
     "metadata": {},
     "output_type": "execute_result"
    }
   ],
   "source": [
    "v.conjugate"
   ]
  },
  {
   "cell_type": "code",
   "execution_count": 40,
   "id": "6feef6a6-4a46-4722-a9ff-6f1692603230",
   "metadata": {},
   "outputs": [
    {
     "name": "stdout",
     "output_type": "stream",
     "text": [
      "My Name Is Apurva\n"
     ]
    }
   ],
   "source": [
    "#print() it is used to print anything.\n",
    "print(\"My Name Is Apurva\")"
   ]
  },
  {
   "cell_type": "code",
   "execution_count": 41,
   "id": "5ea8c616-8d58-4afb-a229-9231d774f46e",
   "metadata": {},
   "outputs": [
    {
     "name": "stdout",
     "output_type": "stream",
     "text": [
      "(5+8j)\n"
     ]
    }
   ],
   "source": [
    "print(v)"
   ]
  },
  {
   "cell_type": "code",
   "execution_count": 59,
   "id": "63fbddbf-6e32-4e84-880f-330097b5eafa",
   "metadata": {},
   "outputs": [],
   "source": [
    "s = \"PWSkills\""
   ]
  },
  {
   "cell_type": "code",
   "execution_count": 60,
   "id": "7e404aa8-8ac2-457a-8eae-9de1a35784fe",
   "metadata": {},
   "outputs": [
    {
     "data": {
      "text/plain": [
       "str"
      ]
     },
     "execution_count": 60,
     "metadata": {},
     "output_type": "execute_result"
    }
   ],
   "source": [
    "type(s)"
   ]
  },
  {
   "cell_type": "code",
   "execution_count": 63,
   "id": "50af0937-b373-4a9c-97c6-deda81b20f6d",
   "metadata": {},
   "outputs": [
    {
     "data": {
      "text/plain": [
       "'P'"
      ]
     },
     "execution_count": 63,
     "metadata": {},
     "output_type": "execute_result"
    }
   ],
   "source": [
    "#indexing\n",
    "s[0]"
   ]
  },
  {
   "cell_type": "code",
   "execution_count": 64,
   "id": "a519189a-463e-4bc9-8616-05f3365e30f0",
   "metadata": {},
   "outputs": [
    {
     "data": {
      "text/plain": [
       "'k'"
      ]
     },
     "execution_count": 64,
     "metadata": {},
     "output_type": "execute_result"
    }
   ],
   "source": [
    "s[3]"
   ]
  },
  {
   "cell_type": "code",
   "execution_count": 65,
   "id": "3fdb5e41-97ae-45a0-afe6-7a643baf7922",
   "metadata": {},
   "outputs": [
    {
     "data": {
      "text/plain": [
       "'PWSkills'"
      ]
     },
     "execution_count": 65,
     "metadata": {},
     "output_type": "execute_result"
    }
   ],
   "source": [
    "s"
   ]
  },
  {
   "cell_type": "code",
   "execution_count": 66,
   "id": "6848bcdb-5e0e-454b-9aba-1d4c2b2e3b1d",
   "metadata": {},
   "outputs": [
    {
     "data": {
      "text/plain": [
       "'s'"
      ]
     },
     "execution_count": 66,
     "metadata": {},
     "output_type": "execute_result"
    }
   ],
   "source": [
    "s[-1]"
   ]
  },
  {
   "cell_type": "code",
   "execution_count": 67,
   "id": "b2ae96dc-595e-4466-b123-34c87216a86b",
   "metadata": {},
   "outputs": [
    {
     "data": {
      "text/plain": [
       "'S'"
      ]
     },
     "execution_count": 67,
     "metadata": {},
     "output_type": "execute_result"
    }
   ],
   "source": [
    "s[-6]"
   ]
  },
  {
   "cell_type": "code",
   "execution_count": 68,
   "id": "be1dc1f5-8f4d-41f3-b3a8-e3d3245341b6",
   "metadata": {},
   "outputs": [
    {
     "data": {
      "text/plain": [
       "'P'"
      ]
     },
     "execution_count": 68,
     "metadata": {},
     "output_type": "execute_result"
    }
   ],
   "source": [
    "s[-8]"
   ]
  },
  {
   "cell_type": "code",
   "execution_count": 137,
   "id": "f15a2366-ddbc-414c-82f3-01bdc47771fe",
   "metadata": {},
   "outputs": [
    {
     "data": {
      "text/plain": [
       "'PW'"
      ]
     },
     "execution_count": 137,
     "metadata": {},
     "output_type": "execute_result"
    }
   ],
   "source": [
    "#slicing and dicing\n",
    "s[0:2]"
   ]
  },
  {
   "cell_type": "code",
   "execution_count": 72,
   "id": "ddc46c0f-5783-4543-a861-7082c85be7dd",
   "metadata": {},
   "outputs": [
    {
     "data": {
      "text/plain": [
       "'PWS'"
      ]
     },
     "execution_count": 72,
     "metadata": {},
     "output_type": "execute_result"
    }
   ],
   "source": [
    "s[0:3]"
   ]
  },
  {
   "cell_type": "code",
   "execution_count": 73,
   "id": "402cf172-c374-4cab-82d3-362b51019a0c",
   "metadata": {},
   "outputs": [
    {
     "data": {
      "text/plain": [
       "'PWSk'"
      ]
     },
     "execution_count": 73,
     "metadata": {},
     "output_type": "execute_result"
    }
   ],
   "source": [
    "s[0:4]"
   ]
  },
  {
   "cell_type": "code",
   "execution_count": 75,
   "id": "e12b0232-96d2-493d-935b-150e4bd3222c",
   "metadata": {},
   "outputs": [
    {
     "data": {
      "text/plain": [
       "'PSil'"
      ]
     },
     "execution_count": 75,
     "metadata": {},
     "output_type": "execute_result"
    }
   ],
   "source": [
    "s[0::2]"
   ]
  },
  {
   "cell_type": "code",
   "execution_count": 76,
   "id": "f1aa83fd-205e-4cc0-971b-2d6ea0dc48ec",
   "metadata": {},
   "outputs": [
    {
     "data": {
      "text/plain": [
       "'PSil'"
      ]
     },
     "execution_count": 76,
     "metadata": {},
     "output_type": "execute_result"
    }
   ],
   "source": [
    "s[0:8:2]"
   ]
  },
  {
   "cell_type": "code",
   "execution_count": 77,
   "id": "727bb408-7c66-4fcb-8a5a-4dfd9620e396",
   "metadata": {},
   "outputs": [
    {
     "data": {
      "text/plain": [
       "'PSil'"
      ]
     },
     "execution_count": 77,
     "metadata": {},
     "output_type": "execute_result"
    }
   ],
   "source": [
    "s[::2]"
   ]
  },
  {
   "cell_type": "code",
   "execution_count": 79,
   "id": "4c26b977-37b2-4ed8-a78a-bcf5b9f08454",
   "metadata": {},
   "outputs": [
    {
     "ename": "ValueError",
     "evalue": "slice step cannot be zero",
     "output_type": "error",
     "traceback": [
      "\u001b[0;31m---------------------------------------------------------------------------\u001b[0m",
      "\u001b[0;31mValueError\u001b[0m                                Traceback (most recent call last)",
      "Cell \u001b[0;32mIn[79], line 1\u001b[0m\n\u001b[0;32m----> 1\u001b[0m \u001b[43ms\u001b[49m\u001b[43m[\u001b[49m\u001b[38;5;241;43m2\u001b[39;49m\u001b[43m:\u001b[49m\u001b[43m:\u001b[49m\u001b[38;5;241;43m0\u001b[39;49m\u001b[43m]\u001b[49m\n",
      "\u001b[0;31mValueError\u001b[0m: slice step cannot be zero"
     ]
    }
   ],
   "source": [
    "s[2::0]"
   ]
  },
  {
   "cell_type": "code",
   "execution_count": 80,
   "id": "1c12fc42-93af-40a4-beb1-10879c9641cc",
   "metadata": {},
   "outputs": [
    {
     "data": {
      "text/plain": [
       "'Sil'"
      ]
     },
     "execution_count": 80,
     "metadata": {},
     "output_type": "execute_result"
    }
   ],
   "source": [
    "s[2::2]"
   ]
  },
  {
   "cell_type": "code",
   "execution_count": 82,
   "id": "f0e3eaf3-5f3f-4069-8266-06f36af0be39",
   "metadata": {},
   "outputs": [
    {
     "data": {
      "text/plain": [
       "'sllikSWP'"
      ]
     },
     "execution_count": 82,
     "metadata": {},
     "output_type": "execute_result"
    }
   ],
   "source": [
    "s[::-1]"
   ]
  },
  {
   "cell_type": "code",
   "execution_count": 83,
   "id": "a0b65d57-45ef-4b49-bc97-02b9742093a0",
   "metadata": {},
   "outputs": [
    {
     "data": {
      "text/plain": [
       "''"
      ]
     },
     "execution_count": 83,
     "metadata": {},
     "output_type": "execute_result"
    }
   ],
   "source": [
    "s[2:7:-1]"
   ]
  },
  {
   "cell_type": "code",
   "execution_count": 84,
   "id": "fb9a3f3e-50b3-44ea-91c6-9637164dd5ce",
   "metadata": {},
   "outputs": [
    {
     "data": {
      "text/plain": [
       "''"
      ]
     },
     "execution_count": 84,
     "metadata": {},
     "output_type": "execute_result"
    }
   ],
   "source": [
    "s[8:0]"
   ]
  },
  {
   "cell_type": "code",
   "execution_count": 90,
   "id": "5530c64c-9cd4-4b5a-90c7-306e589736fd",
   "metadata": {},
   "outputs": [
    {
     "data": {
      "text/plain": [
       "'sllikSWP'"
      ]
     },
     "execution_count": 90,
     "metadata": {},
     "output_type": "execute_result"
    }
   ],
   "source": [
    "s[9::-1]"
   ]
  },
  {
   "cell_type": "code",
   "execution_count": 91,
   "id": "a5962704-ec7d-44bc-ba3f-6805bca27359",
   "metadata": {},
   "outputs": [
    {
     "data": {
      "text/plain": [
       "''"
      ]
     },
     "execution_count": 91,
     "metadata": {},
     "output_type": "execute_result"
    }
   ],
   "source": [
    "s[-2:-8:1]"
   ]
  },
  {
   "cell_type": "code",
   "execution_count": 92,
   "id": "2ab226bd-9b06-4308-be2d-7396ec726272",
   "metadata": {},
   "outputs": [
    {
     "data": {
      "text/plain": [
       "'llikSW'"
      ]
     },
     "execution_count": 92,
     "metadata": {},
     "output_type": "execute_result"
    }
   ],
   "source": [
    "s[-2:-8:-1]"
   ]
  },
  {
   "cell_type": "code",
   "execution_count": 93,
   "id": "bec9d70b-6a31-4253-a62e-b1b1c650a44b",
   "metadata": {},
   "outputs": [
    {
     "data": {
      "text/plain": [
       "'llikSWP'"
      ]
     },
     "execution_count": 93,
     "metadata": {},
     "output_type": "execute_result"
    }
   ],
   "source": [
    "s[-2::-1]"
   ]
  },
  {
   "cell_type": "code",
   "execution_count": 94,
   "id": "644d40b8-5064-454e-b24f-ae5a67511a04",
   "metadata": {},
   "outputs": [
    {
     "data": {
      "text/plain": [
       "'sllikSWP'"
      ]
     },
     "execution_count": 94,
     "metadata": {},
     "output_type": "execute_result"
    }
   ],
   "source": [
    "s[::-1]"
   ]
  },
  {
   "cell_type": "code",
   "execution_count": 95,
   "id": "cf24a31d-2f69-468c-8355-de30bffdd438",
   "metadata": {},
   "outputs": [
    {
     "data": {
      "text/plain": [
       "'sllikSW'"
      ]
     },
     "execution_count": 95,
     "metadata": {},
     "output_type": "execute_result"
    }
   ],
   "source": [
    "s[:-8:-1]"
   ]
  },
  {
   "cell_type": "code",
   "execution_count": 97,
   "id": "97e69d64-c72d-4056-82f8-74b4106e861f",
   "metadata": {},
   "outputs": [
    {
     "ename": "IndexError",
     "evalue": "string index out of range",
     "output_type": "error",
     "traceback": [
      "\u001b[0;31m---------------------------------------------------------------------------\u001b[0m",
      "\u001b[0;31mIndexError\u001b[0m                                Traceback (most recent call last)",
      "Cell \u001b[0;32mIn[97], line 1\u001b[0m\n\u001b[0;32m----> 1\u001b[0m \u001b[43ms\u001b[49m\u001b[43m[\u001b[49m\u001b[38;5;241;43m-\u001b[39;49m\u001b[38;5;241;43m90\u001b[39;49m\u001b[43m]\u001b[49m\n",
      "\u001b[0;31mIndexError\u001b[0m: string index out of range"
     ]
    }
   ],
   "source": [
    "s[-90]"
   ]
  },
  {
   "cell_type": "code",
   "execution_count": 98,
   "id": "cb95f376-19d4-4c2f-980f-df3866827580",
   "metadata": {},
   "outputs": [
    {
     "data": {
      "text/plain": [
       "'sllikSWP'"
      ]
     },
     "execution_count": 98,
     "metadata": {},
     "output_type": "execute_result"
    }
   ],
   "source": [
    "s[:-90:-1]"
   ]
  },
  {
   "cell_type": "code",
   "execution_count": 99,
   "id": "1ffc9b46-8e06-4854-8129-af2fde467ebd",
   "metadata": {},
   "outputs": [],
   "source": [
    "c= 200\n"
   ]
  },
  {
   "cell_type": "code",
   "execution_count": 100,
   "id": "077fb03b-628d-423c-a4db-7240a5fd746a",
   "metadata": {},
   "outputs": [
    {
     "ename": "TypeError",
     "evalue": "'int' object is not subscriptable",
     "output_type": "error",
     "traceback": [
      "\u001b[0;31m---------------------------------------------------------------------------\u001b[0m",
      "\u001b[0;31mTypeError\u001b[0m                                 Traceback (most recent call last)",
      "Cell \u001b[0;32mIn[100], line 1\u001b[0m\n\u001b[0;32m----> 1\u001b[0m \u001b[43mc\u001b[49m\u001b[43m[\u001b[49m\u001b[38;5;241;43m2\u001b[39;49m\u001b[43m]\u001b[49m\n",
      "\u001b[0;31mTypeError\u001b[0m: 'int' object is not subscriptable"
     ]
    }
   ],
   "source": [
    "c[2]"
   ]
  },
  {
   "cell_type": "code",
   "execution_count": 101,
   "id": "2121838a-45fa-435c-b883-f841340998c6",
   "metadata": {},
   "outputs": [],
   "source": [
    "s1 = \"This is my string class\""
   ]
  },
  {
   "cell_type": "code",
   "execution_count": 105,
   "id": "c3d44c3d-93a6-4398-9e27-b535eb1bd84d",
   "metadata": {},
   "outputs": [
    {
     "data": {
      "text/plain": [
       "23"
      ]
     },
     "execution_count": 105,
     "metadata": {},
     "output_type": "execute_result"
    }
   ],
   "source": [
    "# len() is used to know the length.\n",
    "len(s1)"
   ]
  },
  {
   "cell_type": "code",
   "execution_count": 107,
   "id": "5f8ccfe0-5e74-4805-8920-4975d298d271",
   "metadata": {},
   "outputs": [
    {
     "data": {
      "text/plain": [
       "3"
      ]
     },
     "execution_count": 107,
     "metadata": {},
     "output_type": "execute_result"
    }
   ],
   "source": [
    "#.find() it will find the loction of the value\n",
    "\n",
    "s1.find(\"s\")"
   ]
  },
  {
   "cell_type": "code",
   "execution_count": 108,
   "id": "008b0bc3-a315-4eb3-bc7f-44d6dfd8381f",
   "metadata": {},
   "outputs": [
    {
     "data": {
      "text/plain": [
       "2"
      ]
     },
     "execution_count": 108,
     "metadata": {},
     "output_type": "execute_result"
    }
   ],
   "source": [
    "s1.find('i')"
   ]
  },
  {
   "cell_type": "code",
   "execution_count": 109,
   "id": "33f01cbd-392d-43a5-8c7c-a97495bba3a8",
   "metadata": {},
   "outputs": [
    {
     "data": {
      "text/plain": [
       "2"
      ]
     },
     "execution_count": 109,
     "metadata": {},
     "output_type": "execute_result"
    }
   ],
   "source": [
    "s1.find('is')"
   ]
  },
  {
   "cell_type": "code",
   "execution_count": 111,
   "id": "1f0c7f05-1d80-4a3d-b851-9fef79e1944d",
   "metadata": {},
   "outputs": [
    {
     "data": {
      "text/plain": [
       "-1"
      ]
     },
     "execution_count": 111,
     "metadata": {},
     "output_type": "execute_result"
    }
   ],
   "source": [
    "#it will give -1 as error\n",
    "s1.find('iS')"
   ]
  },
  {
   "cell_type": "code",
   "execution_count": 113,
   "id": "5fc286a2-5a24-44d4-8042-75a29aa94cea",
   "metadata": {},
   "outputs": [
    {
     "data": {
      "text/plain": [
       "5"
      ]
     },
     "execution_count": 113,
     "metadata": {},
     "output_type": "execute_result"
    }
   ],
   "source": [
    "#.count() it will give the no of repetation.\n",
    "s1.count('s')"
   ]
  },
  {
   "cell_type": "code",
   "execution_count": 114,
   "id": "975dd794-f275-461c-a934-f477e8acb0cd",
   "metadata": {},
   "outputs": [
    {
     "data": {
      "text/plain": [
       "0"
      ]
     },
     "execution_count": 114,
     "metadata": {},
     "output_type": "execute_result"
    }
   ],
   "source": [
    "s1.count('z')"
   ]
  },
  {
   "cell_type": "code",
   "execution_count": 117,
   "id": "53cf09a6-33c2-4dfa-a83b-e2d9ecb9dc68",
   "metadata": {},
   "outputs": [
    {
     "data": {
      "text/plain": [
       "'THIS IS MY STRING CLASS'"
      ]
     },
     "execution_count": 117,
     "metadata": {},
     "output_type": "execute_result"
    }
   ],
   "source": [
    "#.upper it will covert in upper case.\n",
    "\n",
    "s1.upper()"
   ]
  },
  {
   "cell_type": "code",
   "execution_count": 118,
   "id": "29ec3086-2f0a-4e69-98bc-fe6054ee5aa3",
   "metadata": {},
   "outputs": [],
   "source": [
    "s2 = 'THIS IS MY STRING CLASS'"
   ]
  },
  {
   "cell_type": "code",
   "execution_count": 136,
   "id": "8b908f45-a96f-41e4-9fb2-34794fdac217",
   "metadata": {},
   "outputs": [
    {
     "data": {
      "text/plain": [
       "'this is my string class'"
      ]
     },
     "execution_count": 136,
     "metadata": {},
     "output_type": "execute_result"
    }
   ],
   "source": [
    "#.lower it will convert everything in lower case\n",
    "s2.lower()"
   ]
  },
  {
   "cell_type": "code",
   "execution_count": 121,
   "id": "48f178bf-bc6e-4d41-940f-dfcb89df354e",
   "metadata": {},
   "outputs": [
    {
     "data": {
      "text/plain": [
       "'This Is My String Class'"
      ]
     },
     "execution_count": 121,
     "metadata": {},
     "output_type": "execute_result"
    }
   ],
   "source": [
    "#.title it will convert the value in proper way\n",
    "\n",
    "s1.title()"
   ]
  },
  {
   "cell_type": "code",
   "execution_count": 135,
   "id": "669d97b8-9cec-4c41-a6bf-b5e87865d8d9",
   "metadata": {},
   "outputs": [
    {
     "data": {
      "text/plain": [
       "'This is my string class'"
      ]
     },
     "execution_count": 135,
     "metadata": {},
     "output_type": "execute_result"
    }
   ],
   "source": [
    "#.Capitalize it will convert frist value in capital.\n",
    "s1.capitalize()"
   ]
  },
  {
   "cell_type": "code",
   "execution_count": 123,
   "id": "52133cec-74d7-40c8-839d-12fc65507bf9",
   "metadata": {},
   "outputs": [
    {
     "data": {
      "text/plain": [
       "'PWSkills'"
      ]
     },
     "execution_count": 123,
     "metadata": {},
     "output_type": "execute_result"
    }
   ],
   "source": [
    "s"
   ]
  },
  {
   "cell_type": "code",
   "execution_count": 124,
   "id": "061e48a3-4151-41d4-8098-dfb6b1c46a0a",
   "metadata": {},
   "outputs": [
    {
     "ename": "TypeError",
     "evalue": "can only concatenate str (not \"int\") to str",
     "output_type": "error",
     "traceback": [
      "\u001b[0;31m---------------------------------------------------------------------------\u001b[0m",
      "\u001b[0;31mTypeError\u001b[0m                                 Traceback (most recent call last)",
      "Cell \u001b[0;32mIn[124], line 1\u001b[0m\n\u001b[0;32m----> 1\u001b[0m \u001b[43ms\u001b[49m\u001b[43m \u001b[49m\u001b[38;5;241;43m+\u001b[39;49m\u001b[43m \u001b[49m\u001b[38;5;241;43m1\u001b[39;49m\n",
      "\u001b[0;31mTypeError\u001b[0m: can only concatenate str (not \"int\") to str"
     ]
    }
   ],
   "source": [
    "s + 1"
   ]
  },
  {
   "cell_type": "code",
   "execution_count": 125,
   "id": "ef90eb6b-770a-4e84-96c5-00866fd688cc",
   "metadata": {},
   "outputs": [
    {
     "data": {
      "text/plain": [
       "'PWSkillsap'"
      ]
     },
     "execution_count": 125,
     "metadata": {},
     "output_type": "execute_result"
    }
   ],
   "source": [
    "s + \"ap\""
   ]
  },
  {
   "cell_type": "code",
   "execution_count": 126,
   "id": "389d163f-a813-4731-9e89-fa36c79f545e",
   "metadata": {},
   "outputs": [
    {
     "data": {
      "text/plain": [
       "'PWSkills1'"
      ]
     },
     "execution_count": 126,
     "metadata": {},
     "output_type": "execute_result"
    }
   ],
   "source": [
    "s + '1'"
   ]
  },
  {
   "cell_type": "code",
   "execution_count": 127,
   "id": "c4943895-2281-422f-8f22-3e5df8c3e2ba",
   "metadata": {},
   "outputs": [
    {
     "data": {
      "text/plain": [
       "'PWSkills1'"
      ]
     },
     "execution_count": 127,
     "metadata": {},
     "output_type": "execute_result"
    }
   ],
   "source": [
    "s + str(1)"
   ]
  },
  {
   "cell_type": "code",
   "execution_count": 129,
   "id": "d251054d-6e12-4054-ae8e-43521a2a3543",
   "metadata": {},
   "outputs": [
    {
     "data": {
      "text/plain": [
       "'PWSkillsPWSkillsPWSkills'"
      ]
     },
     "execution_count": 129,
     "metadata": {},
     "output_type": "execute_result"
    }
   ],
   "source": [
    "# it repets \n",
    "\n",
    "s*3"
   ]
  },
  {
   "cell_type": "code",
   "execution_count": 130,
   "id": "f0288924-29df-4061-9ba0-5057c7df794b",
   "metadata": {},
   "outputs": [
    {
     "ename": "TypeError",
     "evalue": "unsupported operand type(s) for /: 'str' and 'int'",
     "output_type": "error",
     "traceback": [
      "\u001b[0;31m---------------------------------------------------------------------------\u001b[0m",
      "\u001b[0;31mTypeError\u001b[0m                                 Traceback (most recent call last)",
      "Cell \u001b[0;32mIn[130], line 1\u001b[0m\n\u001b[0;32m----> 1\u001b[0m \u001b[43ms\u001b[49m\u001b[43m \u001b[49m\u001b[38;5;241;43m/\u001b[39;49m\u001b[43m \u001b[49m\u001b[38;5;241;43m4\u001b[39;49m\n",
      "\u001b[0;31mTypeError\u001b[0m: unsupported operand type(s) for /: 'str' and 'int'"
     ]
    }
   ],
   "source": [
    "s / 4"
   ]
  },
  {
   "cell_type": "code",
   "execution_count": 131,
   "id": "c1fc79c8-c76b-443e-ad02-69ae92be2668",
   "metadata": {},
   "outputs": [
    {
     "data": {
      "text/plain": [
       "\"don't do copy paste in my class\""
      ]
     },
     "execution_count": 131,
     "metadata": {},
     "output_type": "execute_result"
    }
   ],
   "source": [
    "\"don't do copy paste in my class\""
   ]
  },
  {
   "cell_type": "code",
   "execution_count": 134,
   "id": "6c5e7f5c-39c7-4e37-9f0a-b9dbc1b0f20b",
   "metadata": {},
   "outputs": [],
   "source": [
    "# hi \n",
    "# hello\n",
    "# hii\n",
    "# we have to use CTRL + /"
   ]
  },
  {
   "cell_type": "code",
   "execution_count": 3,
   "id": "2ef718fb-7837-4830-9e22-15483e69c134",
   "metadata": {},
   "outputs": [],
   "source": [
    "#list DAta type\n",
    "Apu = [1,200,34,\"Apurva\",True,5+7j,334.6]"
   ]
  },
  {
   "cell_type": "code",
   "execution_count": 4,
   "id": "d42ba96b-3b11-4f4e-b6ff-881329cc001d",
   "metadata": {},
   "outputs": [
    {
     "data": {
      "text/plain": [
       "list"
      ]
     },
     "execution_count": 4,
     "metadata": {},
     "output_type": "execute_result"
    }
   ],
   "source": [
    "type(Apu)"
   ]
  },
  {
   "cell_type": "code",
   "execution_count": 6,
   "id": "3a0aa713-e812-465a-bf6a-aa6c27bae232",
   "metadata": {},
   "outputs": [
    {
     "data": {
      "text/plain": [
       "'Apurva'"
      ]
     },
     "execution_count": 6,
     "metadata": {},
     "output_type": "execute_result"
    }
   ],
   "source": [
    "Apu[3]"
   ]
  },
  {
   "cell_type": "code",
   "execution_count": 7,
   "id": "bb96f039-2948-4ce8-b7cc-089e3fb0e780",
   "metadata": {},
   "outputs": [
    {
     "data": {
      "text/plain": [
       "1"
      ]
     },
     "execution_count": 7,
     "metadata": {},
     "output_type": "execute_result"
    }
   ],
   "source": [
    "Apu[0]"
   ]
  },
  {
   "cell_type": "code",
   "execution_count": 8,
   "id": "6d170018-4c18-41f8-b254-c178cdb54093",
   "metadata": {},
   "outputs": [
    {
     "ename": "IndexError",
     "evalue": "list index out of range",
     "output_type": "error",
     "traceback": [
      "\u001b[0;31m---------------------------------------------------------------------------\u001b[0m",
      "\u001b[0;31mIndexError\u001b[0m                                Traceback (most recent call last)",
      "Cell \u001b[0;32mIn[8], line 1\u001b[0m\n\u001b[0;32m----> 1\u001b[0m \u001b[43mApu\u001b[49m\u001b[43m[\u001b[49m\u001b[38;5;241;43m90\u001b[39;49m\u001b[43m]\u001b[49m\n",
      "\u001b[0;31mIndexError\u001b[0m: list index out of range"
     ]
    }
   ],
   "source": [
    "Apu[90]"
   ]
  },
  {
   "cell_type": "code",
   "execution_count": 9,
   "id": "1bad82a2-c0a4-4840-9117-91480b346f57",
   "metadata": {},
   "outputs": [
    {
     "data": {
      "text/plain": [
       "[1, 200, 34]"
      ]
     },
     "execution_count": 9,
     "metadata": {},
     "output_type": "execute_result"
    }
   ],
   "source": [
    "Apu[:3]"
   ]
  },
  {
   "cell_type": "code",
   "execution_count": 10,
   "id": "d532d8f1-309b-4638-ae29-7e24393b3212",
   "metadata": {},
   "outputs": [
    {
     "data": {
      "text/plain": [
       "334.6"
      ]
     },
     "execution_count": 10,
     "metadata": {},
     "output_type": "execute_result"
    }
   ],
   "source": [
    "Apu[-1]"
   ]
  },
  {
   "cell_type": "code",
   "execution_count": 11,
   "id": "da8785e1-54c0-4eae-a735-ba781bf3d2e4",
   "metadata": {},
   "outputs": [
    {
     "data": {
      "text/plain": [
       "[334.6, (5+7j), True, 'Apurva', 34, 200, 1]"
      ]
     },
     "execution_count": 11,
     "metadata": {},
     "output_type": "execute_result"
    }
   ],
   "source": [
    "Apu[::-1]"
   ]
  },
  {
   "cell_type": "code",
   "execution_count": 12,
   "id": "40a7a6fd-dde5-446e-8fae-de4c42f249e6",
   "metadata": {},
   "outputs": [
    {
     "data": {
      "text/plain": [
       "[1, 34, True, 334.6]"
      ]
     },
     "execution_count": 12,
     "metadata": {},
     "output_type": "execute_result"
    }
   ],
   "source": [
    "Apu[::2]"
   ]
  },
  {
   "cell_type": "code",
   "execution_count": 13,
   "id": "b76b2cfb-1ed3-4dbd-9197-84a349b3932b",
   "metadata": {},
   "outputs": [
    {
     "data": {
      "text/plain": [
       "[1, 200, 34, 'Apurva', True, (5+7j), 334.6]"
      ]
     },
     "execution_count": 13,
     "metadata": {},
     "output_type": "execute_result"
    }
   ],
   "source": [
    "Apu"
   ]
  },
  {
   "cell_type": "code",
   "execution_count": 16,
   "id": "3cadfbdc-a5c3-4108-b156-2e750e7d1c09",
   "metadata": {},
   "outputs": [],
   "source": [
    "s = \"pwskills\""
   ]
  },
  {
   "cell_type": "code",
   "execution_count": 17,
   "id": "04dbe986-8c19-4a13-adf9-9adea3be50f5",
   "metadata": {},
   "outputs": [
    {
     "data": {
      "text/plain": [
       "['p', 'w', 's', 'k', 'i', 'l', 'l', 's']"
      ]
     },
     "execution_count": 17,
     "metadata": {},
     "output_type": "execute_result"
    }
   ],
   "source": [
    "list(s)"
   ]
  },
  {
   "cell_type": "code",
   "execution_count": 24,
   "id": "c400bfdd-fa64-4878-bcf8-621d99f8ad0d",
   "metadata": {},
   "outputs": [],
   "source": [
    "#.append adds element in last position\n",
    "Apu.append(s)"
   ]
  },
  {
   "cell_type": "code",
   "execution_count": 25,
   "id": "5028af79-a1cc-48a9-9bfc-58642e3cadf7",
   "metadata": {},
   "outputs": [
    {
     "data": {
      "text/plain": [
       "[1, 200, 34, 'Apurva', True, (5+7j), 334.6, 'pwskills', 'pwskills']"
      ]
     },
     "execution_count": 25,
     "metadata": {},
     "output_type": "execute_result"
    }
   ],
   "source": [
    "Apu"
   ]
  },
  {
   "cell_type": "code",
   "execution_count": 26,
   "id": "d3515e39-432b-4542-aef1-95b1b71d3caa",
   "metadata": {},
   "outputs": [
    {
     "data": {
      "text/plain": [
       "'Apurva'"
      ]
     },
     "execution_count": 26,
     "metadata": {},
     "output_type": "execute_result"
    }
   ],
   "source": [
    "Apu[3]"
   ]
  },
  {
   "cell_type": "code",
   "execution_count": 27,
   "id": "b5bfe943-dd21-4fac-8fa7-0e675fec75a9",
   "metadata": {},
   "outputs": [
    {
     "data": {
      "text/plain": [
       "'Tr'"
      ]
     },
     "execution_count": 27,
     "metadata": {},
     "output_type": "execute_result"
    }
   ],
   "source": [
    "str(Apu[4])[0:2]"
   ]
  },
  {
   "cell_type": "code",
   "execution_count": 28,
   "id": "bcac86ef-ed00-4fdd-91a3-9898aeb8a07a",
   "metadata": {},
   "outputs": [],
   "source": [
    "A = [3,4,5]"
   ]
  },
  {
   "cell_type": "code",
   "execution_count": 29,
   "id": "af131716-33f7-45a2-b996-f9fad965b671",
   "metadata": {},
   "outputs": [
    {
     "data": {
      "text/plain": [
       "[1, 200, 34, 'Apurva', True, (5+7j), 334.6, 'pwskills', 'pwskills', 3, 4, 5]"
      ]
     },
     "execution_count": 29,
     "metadata": {},
     "output_type": "execute_result"
    }
   ],
   "source": [
    "Apu+A"
   ]
  },
  {
   "cell_type": "code",
   "execution_count": 30,
   "id": "391959d4-728a-4a19-9766-f43e7a5a43ca",
   "metadata": {},
   "outputs": [
    {
     "data": {
      "text/plain": [
       "[3, 4, 5, 3, 4, 5, 3, 4, 5]"
      ]
     },
     "execution_count": 30,
     "metadata": {},
     "output_type": "execute_result"
    }
   ],
   "source": [
    "A*3"
   ]
  },
  {
   "cell_type": "code",
   "execution_count": 32,
   "id": "93fd3684-f63b-42cb-b762-cf9edea6dc1d",
   "metadata": {},
   "outputs": [
    {
     "data": {
      "text/plain": [
       "9"
      ]
     },
     "execution_count": 32,
     "metadata": {},
     "output_type": "execute_result"
    }
   ],
   "source": [
    "len(Apu)"
   ]
  },
  {
   "cell_type": "code",
   "execution_count": 33,
   "id": "8b680dad-19d7-4618-a103-e854dd759f32",
   "metadata": {},
   "outputs": [],
   "source": [
    "Apu.append(8)"
   ]
  },
  {
   "cell_type": "code",
   "execution_count": 34,
   "id": "9ece2b60-b5e1-496d-90cf-c3e66ca99687",
   "metadata": {},
   "outputs": [
    {
     "data": {
      "text/plain": [
       "[1, 200, 34, 'Apurva', True, (5+7j), 334.6, 'pwskills', 'pwskills', 8]"
      ]
     },
     "execution_count": 34,
     "metadata": {},
     "output_type": "execute_result"
    }
   ],
   "source": [
    "Apu"
   ]
  },
  {
   "cell_type": "code",
   "execution_count": 35,
   "id": "acbea2c4-2b3b-43e2-a5c5-0a0f557993af",
   "metadata": {},
   "outputs": [],
   "source": [
    "Apu.append(A)"
   ]
  },
  {
   "cell_type": "code",
   "execution_count": 36,
   "id": "59eca98d-4de6-40a6-9987-6e207c9df989",
   "metadata": {},
   "outputs": [
    {
     "data": {
      "text/plain": [
       "[1,\n",
       " 200,\n",
       " 34,\n",
       " 'Apurva',\n",
       " True,\n",
       " (5+7j),\n",
       " 334.6,\n",
       " 'pwskills',\n",
       " 'pwskills',\n",
       " 8,\n",
       " [3, 4, 5]]"
      ]
     },
     "execution_count": 36,
     "metadata": {},
     "output_type": "execute_result"
    }
   ],
   "source": [
    "Apu"
   ]
  },
  {
   "cell_type": "code",
   "execution_count": 38,
   "id": "d53035bb-7567-40b9-b2f1-7ff7be5ca894",
   "metadata": {},
   "outputs": [
    {
     "data": {
      "text/plain": [
       "4"
      ]
     },
     "execution_count": 38,
     "metadata": {},
     "output_type": "execute_result"
    }
   ],
   "source": [
    "Apu[10][1]"
   ]
  },
  {
   "cell_type": "code",
   "execution_count": 39,
   "id": "be8a9bbf-3c1f-4579-8120-e9d2d96c3c18",
   "metadata": {},
   "outputs": [
    {
     "data": {
      "text/plain": [
       "[1,\n",
       " 200,\n",
       " 34,\n",
       " 'Apurva',\n",
       " True,\n",
       " (5+7j),\n",
       " 334.6,\n",
       " 'pwskills',\n",
       " 'pwskills',\n",
       " 8,\n",
       " [3, 4, 5]]"
      ]
     },
     "execution_count": 39,
     "metadata": {},
     "output_type": "execute_result"
    }
   ],
   "source": [
    "Apu"
   ]
  },
  {
   "cell_type": "code",
   "execution_count": 41,
   "id": "e9edc988-c115-40c1-a316-133a58a8823c",
   "metadata": {},
   "outputs": [
    {
     "ename": "TypeError",
     "evalue": "'int' object is not iterable",
     "output_type": "error",
     "traceback": [
      "\u001b[0;31m---------------------------------------------------------------------------\u001b[0m",
      "\u001b[0;31mTypeError\u001b[0m                                 Traceback (most recent call last)",
      "Cell \u001b[0;32mIn[41], line 1\u001b[0m\n\u001b[0;32m----> 1\u001b[0m \u001b[43mApu\u001b[49m\u001b[38;5;241;43m.\u001b[39;49m\u001b[43mextend\u001b[49m\u001b[43m(\u001b[49m\u001b[38;5;241;43m4\u001b[39;49m\u001b[43m)\u001b[49m\n",
      "\u001b[0;31mTypeError\u001b[0m: 'int' object is not iterable"
     ]
    }
   ],
   "source": [
    "Apu.extend(4)"
   ]
  },
  {
   "cell_type": "code",
   "execution_count": 42,
   "id": "70346275-4185-4462-904f-dcf9feb7f92d",
   "metadata": {},
   "outputs": [],
   "source": [
    "Apu.extend(\"APU\")"
   ]
  },
  {
   "cell_type": "code",
   "execution_count": 43,
   "id": "0c37bc70-390e-49b7-aa30-0419d9cab020",
   "metadata": {},
   "outputs": [
    {
     "data": {
      "text/plain": [
       "[1,\n",
       " 200,\n",
       " 34,\n",
       " 'Apurva',\n",
       " True,\n",
       " (5+7j),\n",
       " 334.6,\n",
       " 'pwskills',\n",
       " 'pwskills',\n",
       " 8,\n",
       " [3, 4, 5],\n",
       " 'A',\n",
       " 'P',\n",
       " 'U']"
      ]
     },
     "execution_count": 43,
     "metadata": {},
     "output_type": "execute_result"
    }
   ],
   "source": [
    "Apu"
   ]
  },
  {
   "cell_type": "code",
   "execution_count": 45,
   "id": "9d2c4b16-3baf-4b77-9052-613dc4086e29",
   "metadata": {},
   "outputs": [],
   "source": [
    "Apu.extend([3,4,5])"
   ]
  },
  {
   "cell_type": "code",
   "execution_count": 46,
   "id": "bc3bc2ef-bda6-4559-9ab1-d105001d40a1",
   "metadata": {},
   "outputs": [
    {
     "data": {
      "text/plain": [
       "[1,\n",
       " 200,\n",
       " 34,\n",
       " 'Apurva',\n",
       " True,\n",
       " (5+7j),\n",
       " 334.6,\n",
       " 'pwskills',\n",
       " 'pwskills',\n",
       " 8,\n",
       " [3, 4, 5],\n",
       " 'A',\n",
       " 'P',\n",
       " 'U',\n",
       " 3,\n",
       " 4,\n",
       " 5]"
      ]
     },
     "execution_count": 46,
     "metadata": {},
     "output_type": "execute_result"
    }
   ],
   "source": [
    "Apu"
   ]
  },
  {
   "cell_type": "code",
   "execution_count": 50,
   "id": "64e6a4cd-fcaf-4906-939c-1dad1b0c040e",
   "metadata": {},
   "outputs": [
    {
     "data": {
      "text/plain": [
       "1"
      ]
     },
     "execution_count": 50,
     "metadata": {},
     "output_type": "execute_result"
    }
   ],
   "source": [
    "# .count it counts like how many times data is repeated\n",
    "Apu.count(\"Apurva\")"
   ]
  },
  {
   "cell_type": "code",
   "execution_count": 51,
   "id": "0ce4bbe3-280c-47d0-bfdf-89114f8b8556",
   "metadata": {},
   "outputs": [
    {
     "data": {
      "text/plain": [
       "[1,\n",
       " 200,\n",
       " 34,\n",
       " 'Apurva',\n",
       " True,\n",
       " (5+7j),\n",
       " 334.6,\n",
       " 'pwskills',\n",
       " 'pwskills',\n",
       " 8,\n",
       " [3, 4, 5],\n",
       " 'A',\n",
       " 'P',\n",
       " 'U',\n",
       " 3,\n",
       " 4,\n",
       " 5]"
      ]
     },
     "execution_count": 51,
     "metadata": {},
     "output_type": "execute_result"
    }
   ],
   "source": [
    "Apu"
   ]
  },
  {
   "cell_type": "code",
   "execution_count": 52,
   "id": "1e486acd-238d-423e-88f6-279edf02de09",
   "metadata": {},
   "outputs": [
    {
     "data": {
      "text/plain": [
       "[3, 4, 5]"
      ]
     },
     "execution_count": 52,
     "metadata": {},
     "output_type": "execute_result"
    }
   ],
   "source": [
    "A"
   ]
  },
  {
   "cell_type": "code",
   "execution_count": 55,
   "id": "73955eff-f166-40f9-bdc2-98cfa46a6490",
   "metadata": {},
   "outputs": [],
   "source": [
    "# .insert it adds the element to the nth position.\n",
    "Apu.insert(0,A)"
   ]
  },
  {
   "cell_type": "code",
   "execution_count": 56,
   "id": "d5be9a57-e0d8-4ede-8045-c1e7d4be61e2",
   "metadata": {},
   "outputs": [
    {
     "data": {
      "text/plain": [
       "[[3, 4, 5],\n",
       " [3, 4, 5],\n",
       " 1,\n",
       " 200,\n",
       " 34,\n",
       " 'Apurva',\n",
       " True,\n",
       " (5+7j),\n",
       " 334.6,\n",
       " 'pwskills',\n",
       " 'pwskills',\n",
       " 8,\n",
       " [3, 4, 5],\n",
       " 'A',\n",
       " 'P',\n",
       " 'U',\n",
       " 3,\n",
       " 4,\n",
       " 5]"
      ]
     },
     "execution_count": 56,
     "metadata": {},
     "output_type": "execute_result"
    }
   ],
   "source": [
    "Apu"
   ]
  },
  {
   "cell_type": "code",
   "execution_count": 57,
   "id": "b2856cd5-c04c-4fea-886e-add1a01f7eeb",
   "metadata": {},
   "outputs": [],
   "source": [
    "Apu.insert(2,[2,3,4])"
   ]
  },
  {
   "cell_type": "code",
   "execution_count": 58,
   "id": "b63f7e0c-1012-4437-b6fc-35752bc65a20",
   "metadata": {},
   "outputs": [
    {
     "data": {
      "text/plain": [
       "[[3, 4, 5],\n",
       " [3, 4, 5],\n",
       " [2, 3, 4],\n",
       " 1,\n",
       " 200,\n",
       " 34,\n",
       " 'Apurva',\n",
       " True,\n",
       " (5+7j),\n",
       " 334.6,\n",
       " 'pwskills',\n",
       " 'pwskills',\n",
       " 8,\n",
       " [3, 4, 5],\n",
       " 'A',\n",
       " 'P',\n",
       " 'U',\n",
       " 3,\n",
       " 4,\n",
       " 5]"
      ]
     },
     "execution_count": 58,
     "metadata": {},
     "output_type": "execute_result"
    }
   ],
   "source": [
    "Apu"
   ]
  },
  {
   "cell_type": "code",
   "execution_count": 59,
   "id": "92142db6-3b43-4106-be6c-caf529368d8c",
   "metadata": {},
   "outputs": [
    {
     "data": {
      "text/plain": [
       "5"
      ]
     },
     "execution_count": 59,
     "metadata": {},
     "output_type": "execute_result"
    }
   ],
   "source": [
    "#.pop it removes item from index\n",
    "Apu.pop()"
   ]
  },
  {
   "cell_type": "code",
   "execution_count": 60,
   "id": "1eea345f-e472-466a-bb65-a4eae323a63e",
   "metadata": {},
   "outputs": [
    {
     "data": {
      "text/plain": [
       "[[3, 4, 5],\n",
       " [3, 4, 5],\n",
       " [2, 3, 4],\n",
       " 1,\n",
       " 200,\n",
       " 34,\n",
       " 'Apurva',\n",
       " True,\n",
       " (5+7j),\n",
       " 334.6,\n",
       " 'pwskills',\n",
       " 'pwskills',\n",
       " 8,\n",
       " [3, 4, 5],\n",
       " 'A',\n",
       " 'P',\n",
       " 'U',\n",
       " 3,\n",
       " 4]"
      ]
     },
     "execution_count": 60,
     "metadata": {},
     "output_type": "execute_result"
    }
   ],
   "source": [
    "Apu"
   ]
  },
  {
   "cell_type": "code",
   "execution_count": 61,
   "id": "37238240-7222-4ffb-947f-abc4d00b71d7",
   "metadata": {},
   "outputs": [
    {
     "data": {
      "text/plain": [
       "4"
      ]
     },
     "execution_count": 61,
     "metadata": {},
     "output_type": "execute_result"
    }
   ],
   "source": [
    "Apu.pop()"
   ]
  },
  {
   "cell_type": "code",
   "execution_count": 62,
   "id": "ea7faefb-eb53-4084-a8ab-a1f1018ca33e",
   "metadata": {},
   "outputs": [
    {
     "data": {
      "text/plain": [
       "5"
      ]
     },
     "execution_count": 62,
     "metadata": {},
     "output_type": "execute_result"
    }
   ],
   "source": [
    "A.pop(2)"
   ]
  },
  {
   "cell_type": "code",
   "execution_count": 63,
   "id": "c70ff8da-f866-4ffa-a44c-accf176e338a",
   "metadata": {},
   "outputs": [
    {
     "data": {
      "text/plain": [
       "[3, 4]"
      ]
     },
     "execution_count": 63,
     "metadata": {},
     "output_type": "execute_result"
    }
   ],
   "source": [
    "A"
   ]
  },
  {
   "cell_type": "code",
   "execution_count": 65,
   "id": "ed5afbba-d03b-4fdb-8929-9390ecbacfc8",
   "metadata": {},
   "outputs": [],
   "source": [
    "# .remove it removes the gien element in ()\n",
    "Apu.remove(\"pwskills\")"
   ]
  },
  {
   "cell_type": "code",
   "execution_count": 66,
   "id": "d9f832fa-daed-42be-9a29-4a45e45bce8a",
   "metadata": {},
   "outputs": [
    {
     "data": {
      "text/plain": [
       "[[3, 4],\n",
       " [3, 4],\n",
       " [2, 3, 4],\n",
       " 1,\n",
       " 200,\n",
       " 34,\n",
       " 'Apurva',\n",
       " True,\n",
       " (5+7j),\n",
       " 334.6,\n",
       " 'pwskills',\n",
       " 8,\n",
       " [3, 4],\n",
       " 'A',\n",
       " 'P',\n",
       " 'U',\n",
       " 3]"
      ]
     },
     "execution_count": 66,
     "metadata": {},
     "output_type": "execute_result"
    }
   ],
   "source": [
    "Apu"
   ]
  },
  {
   "cell_type": "code",
   "execution_count": 67,
   "id": "219b9f02-61de-40b7-b6fb-faef87c1c49a",
   "metadata": {},
   "outputs": [
    {
     "ename": "ValueError",
     "evalue": "list.remove(x): x not in list",
     "output_type": "error",
     "traceback": [
      "\u001b[0;31m---------------------------------------------------------------------------\u001b[0m",
      "\u001b[0;31mValueError\u001b[0m                                Traceback (most recent call last)",
      "Cell \u001b[0;32mIn[67], line 1\u001b[0m\n\u001b[0;32m----> 1\u001b[0m \u001b[43mApu\u001b[49m\u001b[38;5;241;43m.\u001b[39;49m\u001b[43mremove\u001b[49m\u001b[43m(\u001b[49m\u001b[38;5;241;43m100\u001b[39;49m\u001b[43m)\u001b[49m\n",
      "\u001b[0;31mValueError\u001b[0m: list.remove(x): x not in list"
     ]
    }
   ],
   "source": [
    "Apu.remove(100)"
   ]
  },
  {
   "cell_type": "code",
   "execution_count": 69,
   "id": "8984c770-e072-47e1-b419-0e1da8e9dcdf",
   "metadata": {},
   "outputs": [
    {
     "data": {
      "text/plain": [
       "[2, 3, 4]"
      ]
     },
     "execution_count": 69,
     "metadata": {},
     "output_type": "execute_result"
    }
   ],
   "source": [
    "Apu[2]"
   ]
  },
  {
   "cell_type": "code",
   "execution_count": 70,
   "id": "4fba967c-4129-4f5e-9fbe-0098400fd99a",
   "metadata": {},
   "outputs": [],
   "source": [
    "Apu[2].remove(3)"
   ]
  },
  {
   "cell_type": "code",
   "execution_count": 71,
   "id": "56159824-6304-4e3b-bbea-2295f342faf1",
   "metadata": {},
   "outputs": [
    {
     "data": {
      "text/plain": [
       "[[3, 4],\n",
       " [3, 4],\n",
       " [2, 4],\n",
       " 1,\n",
       " 200,\n",
       " 34,\n",
       " 'Apurva',\n",
       " True,\n",
       " (5+7j),\n",
       " 334.6,\n",
       " 'pwskills',\n",
       " 8,\n",
       " [3, 4],\n",
       " 'A',\n",
       " 'P',\n",
       " 'U',\n",
       " 3]"
      ]
     },
     "execution_count": 71,
     "metadata": {},
     "output_type": "execute_result"
    }
   ],
   "source": [
    "Apu"
   ]
  },
  {
   "cell_type": "code",
   "execution_count": 74,
   "id": "fc287f7b-9f02-4100-bcd2-a3c3da78d930",
   "metadata": {},
   "outputs": [
    {
     "data": {
      "text/plain": [
       "'va'"
      ]
     },
     "execution_count": 74,
     "metadata": {},
     "output_type": "execute_result"
    }
   ],
   "source": [
    "Apu[6][4:]"
   ]
  },
  {
   "cell_type": "code",
   "execution_count": 75,
   "id": "4cfbfbbd-1b12-4db6-be65-b740ed9ada1b",
   "metadata": {},
   "outputs": [
    {
     "data": {
      "text/plain": [
       "[[3, 4],\n",
       " [3, 4],\n",
       " [2, 4],\n",
       " 1,\n",
       " 200,\n",
       " 34,\n",
       " 'Apurva',\n",
       " True,\n",
       " (5+7j),\n",
       " 334.6,\n",
       " 'pwskills',\n",
       " 8,\n",
       " [3, 4],\n",
       " 'A',\n",
       " 'P',\n",
       " 'U',\n",
       " 3]"
      ]
     },
     "execution_count": 75,
     "metadata": {},
     "output_type": "execute_result"
    }
   ],
   "source": [
    "Apu"
   ]
  },
  {
   "cell_type": "code",
   "execution_count": 79,
   "id": "d245f766-725c-4c3e-8cf5-68a45bd79787",
   "metadata": {},
   "outputs": [],
   "source": [
    "#permanently reverse\n",
    "Apu.reverse()"
   ]
  },
  {
   "cell_type": "code",
   "execution_count": 80,
   "id": "800350c9-ad8d-41e2-a49c-df50de4f06d6",
   "metadata": {},
   "outputs": [
    {
     "data": {
      "text/plain": [
       "[[3, 4],\n",
       " [3, 4],\n",
       " [2, 4],\n",
       " 1,\n",
       " 200,\n",
       " 34,\n",
       " 'Apurva',\n",
       " True,\n",
       " (5+7j),\n",
       " 334.6,\n",
       " 'pwskills',\n",
       " 8,\n",
       " [3, 4],\n",
       " 'A',\n",
       " 'P',\n",
       " 'U',\n",
       " 3]"
      ]
     },
     "execution_count": 80,
     "metadata": {},
     "output_type": "execute_result"
    }
   ],
   "source": [
    "Apu"
   ]
  },
  {
   "cell_type": "code",
   "execution_count": 81,
   "id": "f73535f6-916c-47a3-8360-06e67683e3c4",
   "metadata": {},
   "outputs": [
    {
     "data": {
      "text/plain": [
       "[3,\n",
       " 'U',\n",
       " 'P',\n",
       " 'A',\n",
       " [3, 4],\n",
       " 8,\n",
       " 'pwskills',\n",
       " 334.6,\n",
       " (5+7j),\n",
       " True,\n",
       " 'Apurva',\n",
       " 34,\n",
       " 200,\n",
       " 1,\n",
       " [2, 4],\n",
       " [3, 4],\n",
       " [3, 4]]"
      ]
     },
     "execution_count": 81,
     "metadata": {},
     "output_type": "execute_result"
    }
   ],
   "source": [
    "#temprorily reverse\n",
    "Apu[::-1]"
   ]
  },
  {
   "cell_type": "code",
   "execution_count": 82,
   "id": "3258a4d1-82db-4a97-a1f6-ef1fc3ff2539",
   "metadata": {},
   "outputs": [],
   "source": [
    "Apu = Apu[::-1]"
   ]
  },
  {
   "cell_type": "code",
   "execution_count": 83,
   "id": "1963337e-fc7b-4982-8a00-0b91f502771b",
   "metadata": {},
   "outputs": [
    {
     "data": {
      "text/plain": [
       "[3,\n",
       " 'U',\n",
       " 'P',\n",
       " 'A',\n",
       " [3, 4],\n",
       " 8,\n",
       " 'pwskills',\n",
       " 334.6,\n",
       " (5+7j),\n",
       " True,\n",
       " 'Apurva',\n",
       " 34,\n",
       " 200,\n",
       " 1,\n",
       " [2, 4],\n",
       " [3, 4],\n",
       " [3, 4]]"
      ]
     },
     "execution_count": 83,
     "metadata": {},
     "output_type": "execute_result"
    }
   ],
   "source": [
    "Apu"
   ]
  },
  {
   "cell_type": "code",
   "execution_count": 84,
   "id": "02b3ef3e-49d5-48f1-bc9b-bc1e12ed9b75",
   "metadata": {},
   "outputs": [],
   "source": [
    "Apu2 = [1,8,5,32,9,6,3,7,4]"
   ]
  },
  {
   "cell_type": "code",
   "execution_count": 88,
   "id": "e13e53bb-6180-4812-a0be-af9c3efeca01",
   "metadata": {},
   "outputs": [],
   "source": [
    "#it converts data into ascending order\n",
    "Apu2.sort()"
   ]
  },
  {
   "cell_type": "code",
   "execution_count": 89,
   "id": "33b6b25e-ee26-45a3-8b7f-d47ff16d80df",
   "metadata": {},
   "outputs": [
    {
     "data": {
      "text/plain": [
       "[1, 3, 4, 5, 6, 7, 8, 9, 32]"
      ]
     },
     "execution_count": 89,
     "metadata": {},
     "output_type": "execute_result"
    }
   ],
   "source": [
    "Apu2"
   ]
  },
  {
   "cell_type": "code",
   "execution_count": 90,
   "id": "414a0f5c-1e8b-4009-899f-57b005ac4937",
   "metadata": {},
   "outputs": [
    {
     "ename": "TypeError",
     "evalue": "'<' not supported between instances of 'str' and 'int'",
     "output_type": "error",
     "traceback": [
      "\u001b[0;31m---------------------------------------------------------------------------\u001b[0m",
      "\u001b[0;31mTypeError\u001b[0m                                 Traceback (most recent call last)",
      "Cell \u001b[0;32mIn[90], line 1\u001b[0m\n\u001b[0;32m----> 1\u001b[0m \u001b[43mApu\u001b[49m\u001b[38;5;241;43m.\u001b[39;49m\u001b[43msort\u001b[49m\u001b[43m(\u001b[49m\u001b[43m)\u001b[49m\n",
      "\u001b[0;31mTypeError\u001b[0m: '<' not supported between instances of 'str' and 'int'"
     ]
    }
   ],
   "source": [
    "Apu.sort()"
   ]
  },
  {
   "cell_type": "code",
   "execution_count": 91,
   "id": "cf00777c-04b5-44c1-a468-5eb980081fb7",
   "metadata": {},
   "outputs": [],
   "source": [
    "Apu3 = [\"Apurva\",\"Aryan\",\"PWskills\",\"Data Science\"]"
   ]
  },
  {
   "cell_type": "code",
   "execution_count": 92,
   "id": "3063bfa1-1a79-4cbd-9a0d-daf0198f2d19",
   "metadata": {},
   "outputs": [],
   "source": [
    "Apu3.sort()"
   ]
  },
  {
   "cell_type": "code",
   "execution_count": 93,
   "id": "51855370-a11d-46ce-ad24-bcb24124fee6",
   "metadata": {},
   "outputs": [
    {
     "data": {
      "text/plain": [
       "['Apurva', 'Aryan', 'Data Science', 'PWskills']"
      ]
     },
     "execution_count": 93,
     "metadata": {},
     "output_type": "execute_result"
    }
   ],
   "source": [
    "Apu3"
   ]
  },
  {
   "cell_type": "code",
   "execution_count": 94,
   "id": "a951aa33-fd2b-4ed6-84a4-149168de655f",
   "metadata": {},
   "outputs": [],
   "source": [
    "Apu3.sort(reverse = True)"
   ]
  },
  {
   "cell_type": "code",
   "execution_count": 95,
   "id": "deab54e3-7bb7-4246-9359-2b92018f50ae",
   "metadata": {},
   "outputs": [
    {
     "data": {
      "text/plain": [
       "['PWskills', 'Data Science', 'Aryan', 'Apurva']"
      ]
     },
     "execution_count": 95,
     "metadata": {},
     "output_type": "execute_result"
    }
   ],
   "source": [
    "Apu3"
   ]
  },
  {
   "cell_type": "code",
   "execution_count": 97,
   "id": "16b1eead-3726-4731-847b-39b8c0572f0f",
   "metadata": {},
   "outputs": [
    {
     "data": {
      "text/plain": [
       "1"
      ]
     },
     "execution_count": 97,
     "metadata": {},
     "output_type": "execute_result"
    }
   ],
   "source": [
    "#it tells you about the position of the element\n",
    "Apu3.index(\"Data Science\")"
   ]
  },
  {
   "cell_type": "code",
   "execution_count": 98,
   "id": "ef7e09dd-614b-4011-b61e-7388e31da07d",
   "metadata": {},
   "outputs": [],
   "source": [
    "AP=\"Apurva\""
   ]
  },
  {
   "cell_type": "code",
   "execution_count": 99,
   "id": "ff810c8f-2ad7-4e7e-bf0a-de4f50479d67",
   "metadata": {},
   "outputs": [],
   "source": [
    "l5=[3,4,5]"
   ]
  },
  {
   "cell_type": "code",
   "execution_count": 100,
   "id": "bc5b53e1-b863-41c0-9bb9-c68dad658d29",
   "metadata": {},
   "outputs": [],
   "source": [
    "l5[0] = 30"
   ]
  },
  {
   "cell_type": "code",
   "execution_count": 101,
   "id": "42c7d64d-f56b-4114-b9ec-b672d223166c",
   "metadata": {},
   "outputs": [
    {
     "data": {
      "text/plain": [
       "[30, 4, 5]"
      ]
     },
     "execution_count": 101,
     "metadata": {},
     "output_type": "execute_result"
    }
   ],
   "source": [
    "l5"
   ]
  },
  {
   "cell_type": "code",
   "execution_count": 105,
   "id": "1e1f1ce4-0541-4e74-b649-710b40efba1c",
   "metadata": {},
   "outputs": [
    {
     "data": {
      "text/plain": [
       "'ppurva'"
      ]
     },
     "execution_count": 105,
     "metadata": {},
     "output_type": "execute_result"
    }
   ],
   "source": [
    "#.replace it replace the element\n",
    "#it replacees temprorily\n",
    "AP.replace(\"A\",\"p\")"
   ]
  },
  {
   "cell_type": "code",
   "execution_count": 106,
   "id": "d2caeb1c-eb89-407f-957d-daf649238f7a",
   "metadata": {},
   "outputs": [
    {
     "data": {
      "text/plain": [
       "'Apurva'"
      ]
     },
     "execution_count": 106,
     "metadata": {},
     "output_type": "execute_result"
    }
   ],
   "source": [
    "AP"
   ]
  },
  {
   "cell_type": "code",
   "execution_count": 123,
   "id": "4e7ecf9a-73d9-4371-b6c0-21dc97adb9a4",
   "metadata": {},
   "outputs": [],
   "source": [
    "#tuples are immutable it cannot change\n",
    "#tuples Data type"
   ]
  },
  {
   "cell_type": "code",
   "execution_count": 111,
   "id": "86b8876f-7d2d-454c-b30e-0995d216b080",
   "metadata": {},
   "outputs": [],
   "source": [
    "t = (2,3,4,5,\"Apurva\",45.56,False,45+457j,[3,4,5])"
   ]
  },
  {
   "cell_type": "code",
   "execution_count": 112,
   "id": "2f885908-3f5d-4843-990d-3887e69c8da3",
   "metadata": {},
   "outputs": [
    {
     "data": {
      "text/plain": [
       "(2, 3, 4, 5, 'Apurva', 45.56, False, (45+457j), [3, 4, 5])"
      ]
     },
     "execution_count": 112,
     "metadata": {},
     "output_type": "execute_result"
    }
   ],
   "source": [
    "t"
   ]
  },
  {
   "cell_type": "code",
   "execution_count": 114,
   "id": "f67f781f-1c47-47bf-83df-273ba92d0d4a",
   "metadata": {},
   "outputs": [
    {
     "data": {
      "text/plain": [
       "tuple"
      ]
     },
     "execution_count": 114,
     "metadata": {},
     "output_type": "execute_result"
    }
   ],
   "source": [
    "type(t)"
   ]
  },
  {
   "cell_type": "code",
   "execution_count": 115,
   "id": "edc715d4-7402-414c-ac59-463dd89e034a",
   "metadata": {},
   "outputs": [
    {
     "data": {
      "text/plain": [
       "9"
      ]
     },
     "execution_count": 115,
     "metadata": {},
     "output_type": "execute_result"
    }
   ],
   "source": [
    "len(t)"
   ]
  },
  {
   "cell_type": "code",
   "execution_count": 116,
   "id": "b096ec55-38f6-4d0f-9276-1657c9fcfe3e",
   "metadata": {},
   "outputs": [
    {
     "data": {
      "text/plain": [
       "2"
      ]
     },
     "execution_count": 116,
     "metadata": {},
     "output_type": "execute_result"
    }
   ],
   "source": [
    "t[0]"
   ]
  },
  {
   "cell_type": "code",
   "execution_count": 117,
   "id": "99883ddd-e4f3-4644-b868-cd3cfe9c19da",
   "metadata": {},
   "outputs": [
    {
     "data": {
      "text/plain": [
       "[3, 4, 5]"
      ]
     },
     "execution_count": 117,
     "metadata": {},
     "output_type": "execute_result"
    }
   ],
   "source": [
    "t[-1]"
   ]
  },
  {
   "cell_type": "code",
   "execution_count": 118,
   "id": "08e6fd18-623d-4fcb-ae9f-d77b9f99dc1b",
   "metadata": {},
   "outputs": [
    {
     "data": {
      "text/plain": [
       "([3, 4, 5], (45+457j), False, 45.56, 'Apurva', 5, 4, 3, 2)"
      ]
     },
     "execution_count": 118,
     "metadata": {},
     "output_type": "execute_result"
    }
   ],
   "source": [
    "t[::-1]"
   ]
  },
  {
   "cell_type": "code",
   "execution_count": 121,
   "id": "9c2557a2-ad52-4be8-aee1-595c992a23a2",
   "metadata": {},
   "outputs": [
    {
     "data": {
      "text/plain": [
       "['PWskills', 'Data Science', 'Aryan', 'Apurva']"
      ]
     },
     "execution_count": 121,
     "metadata": {},
     "output_type": "execute_result"
    }
   ],
   "source": [
    "Apu3"
   ]
  },
  {
   "cell_type": "code",
   "execution_count": 122,
   "id": "0e15d8c7-6545-44eb-913d-e098bd08c3be",
   "metadata": {},
   "outputs": [
    {
     "ename": "TypeError",
     "evalue": "'tuple' object does not support item assignment",
     "output_type": "error",
     "traceback": [
      "\u001b[0;31m---------------------------------------------------------------------------\u001b[0m",
      "\u001b[0;31mTypeError\u001b[0m                                 Traceback (most recent call last)",
      "Cell \u001b[0;32mIn[122], line 1\u001b[0m\n\u001b[0;32m----> 1\u001b[0m \u001b[43mt\u001b[49m\u001b[43m[\u001b[49m\u001b[38;5;241;43m0\u001b[39;49m\u001b[43m]\u001b[49m \u001b[38;5;241m=\u001b[39m \u001b[38;5;124m\"\u001b[39m\u001b[38;5;124mApurva\u001b[39m\u001b[38;5;124m\"\u001b[39m\n",
      "\u001b[0;31mTypeError\u001b[0m: 'tuple' object does not support item assignment"
     ]
    }
   ],
   "source": [
    "t[0] = \"Apurva\""
   ]
  },
  {
   "cell_type": "code",
   "execution_count": 124,
   "id": "a7103c3e-c796-4a33-8f1a-47df60a91853",
   "metadata": {},
   "outputs": [
    {
     "data": {
      "text/plain": [
       "([3, 4, 5], (45+457j), False, 45.56, 'Apurva', 5, 4, 3, 2)"
      ]
     },
     "execution_count": 124,
     "metadata": {},
     "output_type": "execute_result"
    }
   ],
   "source": [
    "t[::-1]"
   ]
  },
  {
   "cell_type": "code",
   "execution_count": 126,
   "id": "dd889a25-aa4c-42e5-ab3f-997dd2522baf",
   "metadata": {},
   "outputs": [
    {
     "data": {
      "text/plain": [
       "1"
      ]
     },
     "execution_count": 126,
     "metadata": {},
     "output_type": "execute_result"
    }
   ],
   "source": [
    "t.count(2)"
   ]
  },
  {
   "cell_type": "code",
   "execution_count": 127,
   "id": "4fa5e1b3-d76f-4300-9f53-18fc606dcd6d",
   "metadata": {},
   "outputs": [
    {
     "data": {
      "text/plain": [
       "6"
      ]
     },
     "execution_count": 127,
     "metadata": {},
     "output_type": "execute_result"
    }
   ],
   "source": [
    "t.index(False)"
   ]
  },
  {
   "cell_type": "code",
   "execution_count": 128,
   "id": "ecfcb303-ac1a-46e2-823f-c2a42e2b46d5",
   "metadata": {},
   "outputs": [
    {
     "data": {
      "text/plain": [
       "(2, 3, 4, 5, 'Apurva', 45.56, False, (45+457j), [3, 4, 5])"
      ]
     },
     "execution_count": 128,
     "metadata": {},
     "output_type": "execute_result"
    }
   ],
   "source": [
    "t"
   ]
  },
  {
   "cell_type": "code",
   "execution_count": 141,
   "id": "a40181b5-2c6c-41ed-a81f-0141d578f740",
   "metadata": {},
   "outputs": [],
   "source": [
    "#set data type\n",
    "#it removes duplicates\n",
    "#it keeps only unique items"
   ]
  },
  {
   "cell_type": "code",
   "execution_count": 130,
   "id": "7a8e64e1-419e-44fc-a955-667ae66413c0",
   "metadata": {},
   "outputs": [],
   "source": [
    "S = {}"
   ]
  },
  {
   "cell_type": "code",
   "execution_count": 131,
   "id": "690133a8-0528-45c2-8188-e5ce12178db9",
   "metadata": {},
   "outputs": [
    {
     "data": {
      "text/plain": [
       "dict"
      ]
     },
     "execution_count": 131,
     "metadata": {},
     "output_type": "execute_result"
    }
   ],
   "source": [
    "type(S)"
   ]
  },
  {
   "cell_type": "code",
   "execution_count": 132,
   "id": "80124aa8-e0c0-46c5-af30-216f09e513d3",
   "metadata": {},
   "outputs": [],
   "source": [
    "s1 = {2,3,4,5}"
   ]
  },
  {
   "cell_type": "code",
   "execution_count": 133,
   "id": "62faf9f9-1d00-439e-8b58-34bd17896645",
   "metadata": {},
   "outputs": [
    {
     "data": {
      "text/plain": [
       "set"
      ]
     },
     "execution_count": 133,
     "metadata": {},
     "output_type": "execute_result"
    }
   ],
   "source": [
    "type(s1)"
   ]
  },
  {
   "cell_type": "code",
   "execution_count": 137,
   "id": "101a4ea1-87e3-4730-979f-d9566b938dfa",
   "metadata": {},
   "outputs": [],
   "source": [
    "s2 = {324,456,456,\"Apurva\",34.456,45+5j,(3,4,5)}"
   ]
  },
  {
   "cell_type": "code",
   "execution_count": 138,
   "id": "4fd09e2c-9dd9-4c11-9bf3-4674f6321222",
   "metadata": {},
   "outputs": [],
   "source": [
    "s3= {2,3,2,4,5,6,8,8,7,8,9}"
   ]
  },
  {
   "cell_type": "code",
   "execution_count": 139,
   "id": "ead74a75-7e36-4036-bdc7-237a4e73f6e0",
   "metadata": {},
   "outputs": [
    {
     "data": {
      "text/plain": [
       "{2, 3, 4, 5, 6, 7, 8, 9}"
      ]
     },
     "execution_count": 139,
     "metadata": {},
     "output_type": "execute_result"
    }
   ],
   "source": [
    "s3"
   ]
  },
  {
   "cell_type": "code",
   "execution_count": 140,
   "id": "92346ebd-f1ef-47e1-b407-640644622821",
   "metadata": {},
   "outputs": [],
   "source": [
    "# set only gives unique data and removes duplicate"
   ]
  },
  {
   "cell_type": "code",
   "execution_count": 143,
   "id": "166867ee-7999-46dd-95f0-dc41d8c864d8",
   "metadata": {},
   "outputs": [],
   "source": [
    "s2 = set(s2)"
   ]
  },
  {
   "cell_type": "code",
   "execution_count": 144,
   "id": "cbd59138-1486-4323-af60-790c1a9efe3d",
   "metadata": {
    "jp-MarkdownHeadingCollapsed": true,
    "tags": []
   },
   "outputs": [
    {
     "data": {
      "text/plain": [
       "{(3, 4, 5), (45+5j), 324, 34.456, 456, 'Apurva'}"
      ]
     },
     "execution_count": 144,
     "metadata": {},
     "output_type": "execute_result"
    }
   ],
   "source": [
    "s2"
   ]
  },
  {
   "cell_type": "code",
   "execution_count": 146,
   "id": "e3ce3747-73da-455e-a6bb-77ccc7615e78",
   "metadata": {},
   "outputs": [],
   "source": [
    "s5= {234,45,23,12,567,\"Apurva\"}"
   ]
  },
  {
   "cell_type": "code",
   "execution_count": 147,
   "id": "6f2fb627-b89c-4711-be6f-bf39e1df6dff",
   "metadata": {},
   "outputs": [
    {
     "data": {
      "text/plain": [
       "{12, 23, 234, 45, 567, 'Apurva'}"
      ]
     },
     "execution_count": 147,
     "metadata": {},
     "output_type": "execute_result"
    }
   ],
   "source": [
    "s5"
   ]
  },
  {
   "cell_type": "code",
   "execution_count": 148,
   "id": "dfa520f9-8888-44ee-b86b-e05b86c749f6",
   "metadata": {},
   "outputs": [
    {
     "ename": "TypeError",
     "evalue": "'set' object is not subscriptable",
     "output_type": "error",
     "traceback": [
      "\u001b[0;31m---------------------------------------------------------------------------\u001b[0m",
      "\u001b[0;31mTypeError\u001b[0m                                 Traceback (most recent call last)",
      "Cell \u001b[0;32mIn[148], line 1\u001b[0m\n\u001b[0;32m----> 1\u001b[0m \u001b[43ms5\u001b[49m\u001b[43m[\u001b[49m\u001b[38;5;241;43m0\u001b[39;49m\u001b[43m]\u001b[49m\n",
      "\u001b[0;31mTypeError\u001b[0m: 'set' object is not subscriptable"
     ]
    }
   ],
   "source": [
    "s5[0]"
   ]
  },
  {
   "cell_type": "code",
   "execution_count": 149,
   "id": "3e96d038-e057-40ec-88a6-6b044a22e7a6",
   "metadata": {},
   "outputs": [
    {
     "ename": "TypeError",
     "evalue": "'set' object is not subscriptable",
     "output_type": "error",
     "traceback": [
      "\u001b[0;31m---------------------------------------------------------------------------\u001b[0m",
      "\u001b[0;31mTypeError\u001b[0m                                 Traceback (most recent call last)",
      "Cell \u001b[0;32mIn[149], line 1\u001b[0m\n\u001b[0;32m----> 1\u001b[0m \u001b[43ms5\u001b[49m\u001b[43m[\u001b[49m\u001b[43m:\u001b[49m\u001b[43m:\u001b[49m\u001b[38;5;241;43m-\u001b[39;49m\u001b[38;5;241;43m1\u001b[39;49m\u001b[43m]\u001b[49m\n",
      "\u001b[0;31mTypeError\u001b[0m: 'set' object is not subscriptable"
     ]
    }
   ],
   "source": [
    "s5[::-1]"
   ]
  },
  {
   "cell_type": "code",
   "execution_count": 150,
   "id": "3082e671-9896-48e3-b29c-c41ab19a41c8",
   "metadata": {},
   "outputs": [],
   "source": [
    "s5.add(4)"
   ]
  },
  {
   "cell_type": "code",
   "execution_count": 151,
   "id": "38cbf452-a9cb-4740-96fc-f976f9fd94b3",
   "metadata": {},
   "outputs": [
    {
     "data": {
      "text/plain": [
       "{12, 23, 234, 4, 45, 567, 'Apurva'}"
      ]
     },
     "execution_count": 151,
     "metadata": {},
     "output_type": "execute_result"
    }
   ],
   "source": [
    "s5"
   ]
  },
  {
   "cell_type": "code",
   "execution_count": 152,
   "id": "dec99006-6a42-437f-956f-d9657cb1d843",
   "metadata": {},
   "outputs": [],
   "source": [
    "s5.add(12)"
   ]
  },
  {
   "cell_type": "code",
   "execution_count": 153,
   "id": "af45fd77-a407-4331-a20d-cf1abe13c2b6",
   "metadata": {},
   "outputs": [
    {
     "data": {
      "text/plain": [
       "{12, 23, 234, 4, 45, 567, 'Apurva'}"
      ]
     },
     "execution_count": 153,
     "metadata": {},
     "output_type": "execute_result"
    }
   ],
   "source": [
    "s5"
   ]
  },
  {
   "cell_type": "code",
   "execution_count": 154,
   "id": "f36b7858-884a-415b-8bcd-35fd10d1baa6",
   "metadata": {},
   "outputs": [],
   "source": [
    "s5.remove(4)"
   ]
  },
  {
   "cell_type": "code",
   "execution_count": 155,
   "id": "c3615cb9-c1d0-4541-a195-1c8e2df1369e",
   "metadata": {},
   "outputs": [
    {
     "data": {
      "text/plain": [
       "{12, 23, 234, 45, 567, 'Apurva'}"
      ]
     },
     "execution_count": 155,
     "metadata": {},
     "output_type": "execute_result"
    }
   ],
   "source": [
    "s5"
   ]
  },
  {
   "cell_type": "code",
   "execution_count": 11,
   "id": "92b7e324-21c5-489f-b236-cdafa931054c",
   "metadata": {},
   "outputs": [],
   "source": [
    "d = {}\n",
    "#special case charecter is not allowed"
   ]
  },
  {
   "cell_type": "code",
   "execution_count": 12,
   "id": "6b7bf08d-125a-46fb-b989-f96b9b0127e9",
   "metadata": {},
   "outputs": [
    {
     "data": {
      "text/plain": [
       "dict"
      ]
     },
     "execution_count": 12,
     "metadata": {},
     "output_type": "execute_result"
    }
   ],
   "source": [
    "type(d)"
   ]
  },
  {
   "cell_type": "code",
   "execution_count": 13,
   "id": "6205cc08-3181-4f7c-8ba5-384c89a5eaec",
   "metadata": {},
   "outputs": [],
   "source": [
    "d1 = {\"key\" : \"Apurva\"}"
   ]
  },
  {
   "cell_type": "code",
   "execution_count": 14,
   "id": "fc8332c6-2761-49fd-92cb-b6dc58130148",
   "metadata": {},
   "outputs": [
    {
     "data": {
      "text/plain": [
       "{'key': 'Apurva'}"
      ]
     },
     "execution_count": 14,
     "metadata": {},
     "output_type": "execute_result"
    }
   ],
   "source": [
    "d1"
   ]
  },
  {
   "cell_type": "code",
   "execution_count": 15,
   "id": "1eb85fe4-497c-4727-a21c-4be91495d8a5",
   "metadata": {},
   "outputs": [],
   "source": [
    "d2 = {\"name\" : \"Apurva\",\"Email\" : \"ap@gmail.com\",\"number\":\"123456\"}"
   ]
  },
  {
   "cell_type": "code",
   "execution_count": 16,
   "id": "74e2cdf6-0d7f-481a-8caa-fc5dd6c8c335",
   "metadata": {},
   "outputs": [],
   "source": [
    "d3 = {234:\"Apurva\",\"@Ap\" : \"Aryan\",True : 234234}"
   ]
  },
  {
   "cell_type": "code",
   "execution_count": 17,
   "id": "93c16d2c-2dcf-4abb-9948-e62c7cf3b9f6",
   "metadata": {},
   "outputs": [
    {
     "data": {
      "text/plain": [
       "{234: 'Apurva', '@Ap': 'Aryan', True: 234234}"
      ]
     },
     "execution_count": 17,
     "metadata": {},
     "output_type": "execute_result"
    }
   ],
   "source": [
    "d3"
   ]
  },
  {
   "cell_type": "code",
   "execution_count": 18,
   "id": "84253a6a-ca1a-46a2-acd2-46d6ac859716",
   "metadata": {},
   "outputs": [
    {
     "data": {
      "text/plain": [
       "'Apurva'"
      ]
     },
     "execution_count": 18,
     "metadata": {},
     "output_type": "execute_result"
    }
   ],
   "source": [
    "d3[234]"
   ]
  },
  {
   "cell_type": "code",
   "execution_count": 19,
   "id": "245529ff-f496-40fd-a14e-4011d838ddcb",
   "metadata": {},
   "outputs": [
    {
     "data": {
      "text/plain": [
       "234234"
      ]
     },
     "execution_count": 19,
     "metadata": {},
     "output_type": "execute_result"
    }
   ],
   "source": [
    "d3[True]"
   ]
  },
  {
   "cell_type": "code",
   "execution_count": 20,
   "id": "84900345-12ef-4ba4-944c-c0e5cb1678e1",
   "metadata": {},
   "outputs": [
    {
     "data": {
      "text/plain": [
       "234234"
      ]
     },
     "execution_count": 20,
     "metadata": {},
     "output_type": "execute_result"
    }
   ],
   "source": [
    "d3[1]"
   ]
  },
  {
   "cell_type": "code",
   "execution_count": 21,
   "id": "07c90c7a-a76f-4d0e-af8a-07fcb48a50a8",
   "metadata": {},
   "outputs": [],
   "source": [
    "d4 = {'name':'Apurva','email':'ap@gmail.com','name':'Aryan'}"
   ]
  },
  {
   "cell_type": "code",
   "execution_count": 24,
   "id": "90ce89a2-7ec8-48f4-9d14-0c1b1e75f8d2",
   "metadata": {},
   "outputs": [
    {
     "data": {
      "text/plain": [
       "'Aryan'"
      ]
     },
     "execution_count": 24,
     "metadata": {},
     "output_type": "execute_result"
    }
   ],
   "source": [
    "#it will gove last value of repeting element\n",
    "d4['name']"
   ]
  },
  {
   "cell_type": "code",
   "execution_count": 25,
   "id": "e855be00-c3a7-473f-b4d2-077e99a7a7ef",
   "metadata": {},
   "outputs": [],
   "source": [
    "d5 = {'Company':'pwskills','Course':['web dev','data science','java']}"
   ]
  },
  {
   "cell_type": "code",
   "execution_count": 26,
   "id": "608231c7-b835-4cc0-8466-35f3c268ecdf",
   "metadata": {},
   "outputs": [
    {
     "data": {
      "text/plain": [
       "{'Company': 'pwskills', 'Course': ['web dev', 'data science', 'java']}"
      ]
     },
     "execution_count": 26,
     "metadata": {},
     "output_type": "execute_result"
    }
   ],
   "source": [
    "d5"
   ]
  },
  {
   "cell_type": "code",
   "execution_count": 27,
   "id": "00565eb8-94f7-4444-a217-38609e9b8452",
   "metadata": {},
   "outputs": [
    {
     "data": {
      "text/plain": [
       "'java'"
      ]
     },
     "execution_count": 27,
     "metadata": {},
     "output_type": "execute_result"
    }
   ],
   "source": [
    "d5['Course'][2]"
   ]
  },
  {
   "cell_type": "code",
   "execution_count": 30,
   "id": "371d2337-d316-4ec2-982f-f2fd3d770904",
   "metadata": {},
   "outputs": [],
   "source": [
    "d6 = {'Number' : [2,23,34,3,56],'assignments':(1,2,3,4,5,6),'launch date':{28,12,14},'class_time':{'web dev':8}}"
   ]
  },
  {
   "cell_type": "code",
   "execution_count": 31,
   "id": "c3a3be0a-9799-46cb-9f61-6fb929de7d32",
   "metadata": {},
   "outputs": [
    {
     "data": {
      "text/plain": [
       "{'Number': [2, 23, 34, 3, 56],\n",
       " 'assignments': (1, 2, 3, 4, 5, 6),\n",
       " 'launch date': {12, 14, 28},\n",
       " 'class_time': {'web dev': 8}}"
      ]
     },
     "execution_count": 31,
     "metadata": {},
     "output_type": "execute_result"
    }
   ],
   "source": [
    "d6"
   ]
  },
  {
   "cell_type": "code",
   "execution_count": 32,
   "id": "c38b1973-0868-4b9e-ad8d-61ab09eccccc",
   "metadata": {},
   "outputs": [
    {
     "data": {
      "text/plain": [
       "8"
      ]
     },
     "execution_count": 32,
     "metadata": {},
     "output_type": "execute_result"
    }
   ],
   "source": [
    "d6['class_time']['web dev']"
   ]
  },
  {
   "cell_type": "code",
   "execution_count": 33,
   "id": "eea089e2-1e89-4c7f-8a5e-39c97f75b210",
   "metadata": {},
   "outputs": [],
   "source": [
    "d6['mentor']=['sudhanshu','krish','anurag','hyder']"
   ]
  },
  {
   "cell_type": "code",
   "execution_count": 34,
   "id": "88ab45d2-60da-4c6f-9c8a-90063906ade1",
   "metadata": {},
   "outputs": [
    {
     "data": {
      "text/plain": [
       "{'Number': [2, 23, 34, 3, 56],\n",
       " 'assignments': (1, 2, 3, 4, 5, 6),\n",
       " 'launch date': {12, 14, 28},\n",
       " 'class_time': {'web dev': 8},\n",
       " 'mentor': ['sudhanshu', 'krish', 'anurag', 'hyder']}"
      ]
     },
     "execution_count": 34,
     "metadata": {},
     "output_type": "execute_result"
    }
   ],
   "source": [
    "d6"
   ]
  },
  {
   "cell_type": "code",
   "execution_count": 36,
   "id": "0fcb00ea-9a63-4a6e-9810-c836901d0537",
   "metadata": {},
   "outputs": [],
   "source": [
    "del d6['Number']"
   ]
  },
  {
   "cell_type": "code",
   "execution_count": 37,
   "id": "018ceea3-495c-4278-b6e9-c89f55caa77e",
   "metadata": {},
   "outputs": [
    {
     "data": {
      "text/plain": [
       "{'assignments': (1, 2, 3, 4, 5, 6),\n",
       " 'launch date': {12, 14, 28},\n",
       " 'class_time': {'web dev': 8},\n",
       " 'mentor': ['sudhanshu', 'krish', 'anurag', 'hyder']}"
      ]
     },
     "execution_count": 37,
     "metadata": {},
     "output_type": "execute_result"
    }
   ],
   "source": [
    "d6"
   ]
  },
  {
   "cell_type": "code",
   "execution_count": 38,
   "id": "898ac399-d01d-45e7-9e1e-928ccffb23c8",
   "metadata": {},
   "outputs": [
    {
     "data": {
      "text/plain": [
       "dict_keys(['assignments', 'launch date', 'class_time', 'mentor'])"
      ]
     },
     "execution_count": 38,
     "metadata": {},
     "output_type": "execute_result"
    }
   ],
   "source": [
    "d6.keys()"
   ]
  },
  {
   "cell_type": "code",
   "execution_count": 39,
   "id": "a498e983-b6f5-4990-9f8b-3075180fb2fb",
   "metadata": {},
   "outputs": [
    {
     "data": {
      "text/plain": [
       "['assignments', 'launch date', 'class_time', 'mentor']"
      ]
     },
     "execution_count": 39,
     "metadata": {},
     "output_type": "execute_result"
    }
   ],
   "source": [
    "list(d6.keys())"
   ]
  },
  {
   "cell_type": "code",
   "execution_count": 40,
   "id": "b2fee429-8314-4db1-b48e-29e0639fd028",
   "metadata": {},
   "outputs": [
    {
     "data": {
      "text/plain": [
       "[(1, 2, 3, 4, 5, 6),\n",
       " {12, 14, 28},\n",
       " {'web dev': 8},\n",
       " ['sudhanshu', 'krish', 'anurag', 'hyder']]"
      ]
     },
     "execution_count": 40,
     "metadata": {},
     "output_type": "execute_result"
    }
   ],
   "source": [
    "list(d6.values())"
   ]
  },
  {
   "cell_type": "code",
   "execution_count": 41,
   "id": "a3cc3c19-98b0-4ffe-a6ff-63f0363fa6c2",
   "metadata": {},
   "outputs": [
    {
     "data": {
      "text/plain": [
       "dict_items([('assignments', (1, 2, 3, 4, 5, 6)), ('launch date', {28, 12, 14}), ('class_time', {'web dev': 8}), ('mentor', ['sudhanshu', 'krish', 'anurag', 'hyder'])])"
      ]
     },
     "execution_count": 41,
     "metadata": {},
     "output_type": "execute_result"
    }
   ],
   "source": [
    "d6.items()"
   ]
  },
  {
   "cell_type": "code",
   "execution_count": 42,
   "id": "be11cfc7-8958-4e99-ad60-2094a0c34df4",
   "metadata": {},
   "outputs": [
    {
     "data": {
      "text/plain": [
       "[('assignments', (1, 2, 3, 4, 5, 6)),\n",
       " ('launch date', {12, 14, 28}),\n",
       " ('class_time', {'web dev': 8}),\n",
       " ('mentor', ['sudhanshu', 'krish', 'anurag', 'hyder'])]"
      ]
     },
     "execution_count": 42,
     "metadata": {},
     "output_type": "execute_result"
    }
   ],
   "source": [
    "list(d6.items())"
   ]
  },
  {
   "cell_type": "code",
   "execution_count": 44,
   "id": "264935c7-0057-4db6-ba3b-74e3072620ad",
   "metadata": {},
   "outputs": [
    {
     "data": {
      "text/plain": [
       "(1, 2, 3, 4, 5, 6)"
      ]
     },
     "execution_count": 44,
     "metadata": {},
     "output_type": "execute_result"
    }
   ],
   "source": [
    "d6.pop('assignments')"
   ]
  },
  {
   "cell_type": "code",
   "execution_count": 45,
   "id": "0f0b8de3-8780-4dff-99ca-ae6997349526",
   "metadata": {},
   "outputs": [
    {
     "data": {
      "text/plain": [
       "{'launch date': {12, 14, 28},\n",
       " 'class_time': {'web dev': 8},\n",
       " 'mentor': ['sudhanshu', 'krish', 'anurag', 'hyder']}"
      ]
     },
     "execution_count": 45,
     "metadata": {},
     "output_type": "execute_result"
    }
   ],
   "source": [
    "d6"
   ]
  },
  {
   "cell_type": "code",
   "execution_count": 46,
   "id": "3c3b1f43-0745-46f0-9ea4-960e578c170d",
   "metadata": {},
   "outputs": [
    {
     "ename": "TypeError",
     "evalue": "pop expected at least 1 argument, got 0",
     "output_type": "error",
     "traceback": [
      "\u001b[0;31m---------------------------------------------------------------------------\u001b[0m",
      "\u001b[0;31mTypeError\u001b[0m                                 Traceback (most recent call last)",
      "Cell \u001b[0;32mIn [46], line 1\u001b[0m\n\u001b[0;32m----> 1\u001b[0m \u001b[43md6\u001b[49m\u001b[38;5;241;43m.\u001b[39;49m\u001b[43mpop\u001b[49m\u001b[43m(\u001b[49m\u001b[43m)\u001b[49m\n",
      "\u001b[0;31mTypeError\u001b[0m: pop expected at least 1 argument, got 0"
     ]
    }
   ],
   "source": [
    "d6.pop()"
   ]
  },
  {
   "cell_type": "code",
   "execution_count": 60,
   "id": "fcd135f8-db9a-4523-bf71-69f1d7013094",
   "metadata": {},
   "outputs": [
    {
     "name": "stdout",
     "output_type": "stream",
     "text": [
      "you will be a part of A0 batch\n"
     ]
    }
   ],
   "source": [
    "#if statement\n",
    "marks = 90\n",
    "if marks >=80:\n",
    "    print(\"you will be a part of A0 batch\")\n",
    "elif marks >=60 and marks <80:\n",
    "    print(\"you will be a part of A1 batch\")\n",
    "elif marks >=40 and marks <60:\n",
    "    print(\"you will be a part of A2 batch\")\n",
    "else :\n",
    "    print(\"You will be a part of A3 batch\")"
   ]
  },
  {
   "cell_type": "code",
   "execution_count": 61,
   "id": "fe73306c-9f2d-40aa-b280-05a3a644eaf6",
   "metadata": {},
   "outputs": [
    {
     "name": "stdin",
     "output_type": "stream",
     "text": [
      "enter your marks 90\n"
     ]
    },
    {
     "name": "stdout",
     "output_type": "stream",
     "text": [
      "you will be a part of A0 batch\n"
     ]
    }
   ],
   "source": [
    "marks = int(input(\"enter your marks\"))\n",
    "if marks >=80:\n",
    "    print(\"you will be a part of A0 batch\")\n",
    "elif marks >=60 and marks <80:\n",
    "    print(\"you will be a part of A1 batch\")\n",
    "elif marks >=40 and marks <60:\n",
    "    print(\"you will be a part of A2 batch\")\n",
    "else :\n",
    "    print(\"You will be a part of A3 batch\")"
   ]
  },
  {
   "cell_type": "code",
   "execution_count": 57,
   "id": "00b80109-bbf0-4d8d-a016-16be97d17f8a",
   "metadata": {},
   "outputs": [
    {
     "name": "stdin",
     "output_type": "stream",
     "text": [
      "Enter Price 8900\n"
     ]
    },
    {
     "name": "stdout",
     "output_type": "stream",
     "text": [
      "i will not purchase\n"
     ]
    }
   ],
   "source": [
    "price = int(input(\"Enter Price\"))\n",
    "if price > 1000:\n",
    "    print(\"i will not purchase\")\n",
    "else :\n",
    "    print(\"i will purchase\")"
   ]
  },
  {
   "cell_type": "code",
   "execution_count": 58,
   "id": "dd8c9b68-8413-4d69-921c-916b6c1b84c0",
   "metadata": {},
   "outputs": [
    {
     "name": "stdin",
     "output_type": "stream",
     "text": [
      "Enter Price 9000\n"
     ]
    },
    {
     "name": "stdout",
     "output_type": "stream",
     "text": [
      "i will not purchase\n",
      "This is too much\n"
     ]
    }
   ],
   "source": [
    "price = int(input(\"Enter Price\"))\n",
    "if price > 1000:\n",
    "    print(\"i will not purchase\")\n",
    "    if price > 5000:\n",
    "        print(\"This is too much\")"
   ]
  },
  {
   "cell_type": "code",
   "execution_count": 59,
   "id": "33a6615c-62a6-4365-a3b1-86cb9b620ffc",
   "metadata": {},
   "outputs": [
    {
     "name": "stdin",
     "output_type": "stream",
     "text": [
      "Enter Price 1500\n"
     ]
    },
    {
     "name": "stdout",
     "output_type": "stream",
     "text": [
      "i will not purchase\n",
      "its ok\n"
     ]
    }
   ],
   "source": [
    "price = int(input(\"Enter Price\"))\n",
    "if price > 1000:\n",
    "    print(\"i will not purchase\")\n",
    "    if price > 5000:\n",
    "        print(\"This is too much\")\n",
    "    elif price < 2000:\n",
    "        print(\"its ok\")"
   ]
  },
  {
   "cell_type": "code",
   "execution_count": 64,
   "id": "47fe70b0-8c2b-4780-ac60-eca3abef78d1",
   "metadata": {},
   "outputs": [
    {
     "name": "stdin",
     "output_type": "stream",
     "text": [
      "Enter Price 900\n"
     ]
    },
    {
     "name": "stdout",
     "output_type": "stream",
     "text": [
      "not intrested\n"
     ]
    }
   ],
   "source": [
    "price = int(input(\"Enter Price\"))\n",
    "if price > 1000:\n",
    "    print(\"i will not purchase\")\n",
    "    if price > 5000:\n",
    "        print(\"This is too much\")\n",
    "    elif price < 2000:\n",
    "        print(\"its ok\")\n",
    "else:\n",
    "        print(\"not intrested\")"
   ]
  },
  {
   "cell_type": "code",
   "execution_count": 65,
   "id": "856caa68-d0f3-4ed0-8657-039fd27ac17b",
   "metadata": {},
   "outputs": [],
   "source": [
    "l = [1,2,3,4,5,6,7,8,9]"
   ]
  },
  {
   "cell_type": "code",
   "execution_count": 67,
   "id": "a41c2df3-e393-40af-8f4f-ece543530d73",
   "metadata": {},
   "outputs": [],
   "source": [
    "l1 = []"
   ]
  },
  {
   "cell_type": "code",
   "execution_count": 69,
   "id": "4e472062-08f5-4b48-8853-5b7e36e4f051",
   "metadata": {},
   "outputs": [],
   "source": [
    "#loops for "
   ]
  },
  {
   "cell_type": "code",
   "execution_count": 70,
   "id": "64ea5018-745a-4a8e-9be4-8fce237e367b",
   "metadata": {},
   "outputs": [
    {
     "name": "stdout",
     "output_type": "stream",
     "text": [
      "1\n",
      "2\n",
      "3\n",
      "4\n",
      "5\n",
      "6\n",
      "7\n",
      "8\n",
      "9\n"
     ]
    }
   ],
   "source": [
    "for i in l:\n",
    "    print(i)"
   ]
  },
  {
   "cell_type": "code",
   "execution_count": 71,
   "id": "a71bc379-e717-4383-aa4b-7ca2ac10cbb0",
   "metadata": {},
   "outputs": [
    {
     "name": "stdout",
     "output_type": "stream",
     "text": [
      "9\n",
      "8\n",
      "7\n",
      "6\n",
      "5\n",
      "4\n",
      "3\n",
      "2\n",
      "1\n"
     ]
    }
   ],
   "source": [
    "for i in l[::-1]:\n",
    "    print(i)"
   ]
  },
  {
   "cell_type": "code",
   "execution_count": 72,
   "id": "2917fa32-dd3a-4a66-a962-c9aab6b51460",
   "metadata": {},
   "outputs": [
    {
     "name": "stdout",
     "output_type": "stream",
     "text": [
      "2\n",
      "3\n",
      "4\n",
      "5\n",
      "6\n",
      "7\n",
      "8\n",
      "9\n",
      "10\n"
     ]
    }
   ],
   "source": [
    "for i in l:\n",
    "    print(i+1)"
   ]
  },
  {
   "cell_type": "code",
   "execution_count": 73,
   "id": "e73280a1-b6ef-4e11-9bca-555759eeb0a4",
   "metadata": {},
   "outputs": [
    {
     "name": "stdout",
     "output_type": "stream",
     "text": [
      "[1, 2, 3, 4, 5, 6, 7, 8, 9]\n",
      "[1, 2, 3, 4, 5, 6, 7, 8, 9]\n",
      "[1, 2, 3, 4, 5, 6, 7, 8, 9]\n",
      "[1, 2, 3, 4, 5, 6, 7, 8, 9]\n",
      "[1, 2, 3, 4, 5, 6, 7, 8, 9]\n",
      "[1, 2, 3, 4, 5, 6, 7, 8, 9]\n",
      "[1, 2, 3, 4, 5, 6, 7, 8, 9]\n",
      "[1, 2, 3, 4, 5, 6, 7, 8, 9]\n",
      "[1, 2, 3, 4, 5, 6, 7, 8, 9]\n"
     ]
    }
   ],
   "source": [
    "for i in l:\n",
    "    print(l)"
   ]
  },
  {
   "cell_type": "code",
   "execution_count": 81,
   "id": "480cc280-a5c7-474d-b69d-42b460792a32",
   "metadata": {},
   "outputs": [],
   "source": [
    "l1 = []\n",
    "for i in l:\n",
    "    l1.append(i+1)"
   ]
  },
  {
   "cell_type": "code",
   "execution_count": 84,
   "id": "5413e4fa-4e3d-458f-a733-ecf7a09179cd",
   "metadata": {},
   "outputs": [],
   "source": [
    "l1 = [\"Apurv\",\"Aryan\"]"
   ]
  },
  {
   "cell_type": "code",
   "execution_count": 87,
   "id": "768d008b-6e2f-4a2e-8702-407e60e386b7",
   "metadata": {},
   "outputs": [
    {
     "name": "stdout",
     "output_type": "stream",
     "text": [
      "1\n"
     ]
    },
    {
     "ename": "AttributeError",
     "evalue": "'list' object has no attribute 'upper'",
     "output_type": "error",
     "traceback": [
      "\u001b[0;31m---------------------------------------------------------------------------\u001b[0m",
      "\u001b[0;31mAttributeError\u001b[0m                            Traceback (most recent call last)",
      "Cell \u001b[0;32mIn [87], line 4\u001b[0m\n\u001b[1;32m      2\u001b[0m \u001b[38;5;28;01mfor\u001b[39;00m i \u001b[38;5;129;01min\u001b[39;00m l:\n\u001b[1;32m      3\u001b[0m     \u001b[38;5;28mprint\u001b[39m(i)\n\u001b[0;32m----> 4\u001b[0m     l1\u001b[38;5;241m.\u001b[39mappend(\u001b[43ml1\u001b[49m\u001b[38;5;241;43m.\u001b[39;49m\u001b[43mupper\u001b[49m())\n",
      "\u001b[0;31mAttributeError\u001b[0m: 'list' object has no attribute 'upper'"
     ]
    }
   ],
   "source": [
    "l1 = []\n",
    "for i in l:\n",
    "    print(i)\n",
    "    l1.append(l1.upper())"
   ]
  },
  {
   "cell_type": "code",
   "execution_count": 88,
   "id": "41318ee3-fd21-4122-b973-73181b3a9cd7",
   "metadata": {},
   "outputs": [],
   "source": [
    "l = [1,2,3,4,4,\"sudh\",\"kumar\",342,34.456,\"abc\"]"
   ]
  },
  {
   "cell_type": "code",
   "execution_count": 90,
   "id": "80279d05-def1-44d4-8f61-d72906d0002e",
   "metadata": {},
   "outputs": [],
   "source": [
    "l1 = []\n",
    "l2 = []\n",
    "for i in l:\n",
    "    if type(i) == int or type == float:\n",
    "        l1.append(i)\n",
    "    else:\n",
    "        l2.append(i)"
   ]
  },
  {
   "cell_type": "code",
   "execution_count": 91,
   "id": "71b3027c-0b4b-43d3-9b1c-11b27228c8e7",
   "metadata": {},
   "outputs": [
    {
     "data": {
      "text/plain": [
       "[1, 2, 3, 4, 4, 342]"
      ]
     },
     "execution_count": 91,
     "metadata": {},
     "output_type": "execute_result"
    }
   ],
   "source": [
    "l1"
   ]
  },
  {
   "cell_type": "code",
   "execution_count": 92,
   "id": "cddac6de-3de4-4b6e-867c-b447dafd5f51",
   "metadata": {},
   "outputs": [
    {
     "data": {
      "text/plain": [
       "['sudh', 'kumar', 34.456, 'abc']"
      ]
     },
     "execution_count": 92,
     "metadata": {},
     "output_type": "execute_result"
    }
   ],
   "source": [
    "l2"
   ]
  },
  {
   "cell_type": "code",
   "execution_count": null,
   "id": "36a6353f-ce77-426c-a057-77cc96a133ba",
   "metadata": {},
   "outputs": [],
   "source": []
  }
 ],
 "metadata": {
  "kernelspec": {
   "display_name": "Python 3 (ipykernel)",
   "language": "python",
   "name": "python3"
  },
  "language_info": {
   "codemirror_mode": {
    "name": "ipython",
    "version": 3
   },
   "file_extension": ".py",
   "mimetype": "text/x-python",
   "name": "python",
   "nbconvert_exporter": "python",
   "pygments_lexer": "ipython3",
   "version": "3.10.6"
  }
 },
 "nbformat": 4,
 "nbformat_minor": 5
}
